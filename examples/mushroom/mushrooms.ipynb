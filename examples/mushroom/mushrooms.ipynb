{
 "cells": [
  {
   "cell_type": "code",
   "execution_count": 1,
   "metadata": {
    "colab": {
     "base_uri": "https://localhost:8080/"
    },
    "id": "D5AeahllN95N",
    "outputId": "6bb2828a-f33b-491f-a55f-eb74fecd1de7"
   },
   "outputs": [
    {
     "name": "stdout",
     "output_type": "stream",
     "text": [
      "Requirement already satisfied: pytorch-tabnet in ./miniconda3/lib/python3.9/site-packages (4.1.0)\n",
      "Requirement already satisfied: numpy>=1.17 in ./miniconda3/lib/python3.9/site-packages (from pytorch-tabnet) (1.25.2)\n",
      "Requirement already satisfied: scikit_learn>0.21 in ./miniconda3/lib/python3.9/site-packages (from pytorch-tabnet) (0.24.1)\n",
      "Requirement already satisfied: scipy>1.4 in ./miniconda3/lib/python3.9/site-packages (from pytorch-tabnet) (1.10.1)\n",
      "Requirement already satisfied: torch>=1.3 in ./miniconda3/lib/python3.9/site-packages (from pytorch-tabnet) (1.9.0+cu102)\n",
      "Requirement already satisfied: tqdm>=4.36 in ./miniconda3/lib/python3.9/site-packages (from pytorch-tabnet) (4.62.3)\n",
      "Requirement already satisfied: joblib>=0.11 in ./miniconda3/lib/python3.9/site-packages (from scikit_learn>0.21->pytorch-tabnet) (1.0.1)\n",
      "Requirement already satisfied: threadpoolctl>=2.0.0 in ./miniconda3/lib/python3.9/site-packages (from scikit_learn>0.21->pytorch-tabnet) (2.2.0)\n",
      "Requirement already satisfied: typing-extensions in ./miniconda3/lib/python3.9/site-packages (from torch>=1.3->pytorch-tabnet) (4.12.0)\n",
      "\u001b[33mDEPRECATION: pytorch-lightning 1.5.9 has a non-standard dependency specifier torch>=1.7.*. pip 24.1 will enforce this behaviour change. A possible replacement is to upgrade to a newer version of pytorch-lightning or contact the author to suggest that they release a version with a conforming dependency specifiers. Discussion can be found at https://github.com/pypa/pip/issues/12063\u001b[0m\u001b[33m\n",
      "\u001b[0mRequirement already satisfied: xgboost in ./miniconda3/lib/python3.9/site-packages (2.0.3)\n",
      "Requirement already satisfied: numpy in ./miniconda3/lib/python3.9/site-packages (from xgboost) (1.25.2)\n",
      "Requirement already satisfied: scipy in ./miniconda3/lib/python3.9/site-packages (from xgboost) (1.10.1)\n",
      "\u001b[33mDEPRECATION: pytorch-lightning 1.5.9 has a non-standard dependency specifier torch>=1.7.*. pip 24.1 will enforce this behaviour change. A possible replacement is to upgrade to a newer version of pytorch-lightning or contact the author to suggest that they release a version with a conforming dependency specifiers. Discussion can be found at https://github.com/pypa/pip/issues/12063\u001b[0m\u001b[33m\n",
      "\u001b[0m"
     ]
    }
   ],
   "source": [
    "!pip install pytorch-tabnet\n",
    "!pip install xgboost\n",
    "#!gdown --id 1FCaUqClUl6zKb9fszETEIJsLXscTsz12\n",
    "#!gdown --id \"1BtJR_oIb1RHCS5rcLYrf--gZZXC2YuG8&confirm=t\"\n",
    "#!unzip results_mushroom.zip"
   ]
  },
  {
   "cell_type": "code",
   "execution_count": 2,
   "metadata": {
    "id": "gnR7qcYLN7AF"
   },
   "outputs": [
    {
     "name": "stderr",
     "output_type": "stream",
     "text": [
      "<frozen importlib._bootstrap>:228: RuntimeWarning: scipy._lib.messagestream.MessageStream size changed, may indicate binary incompatibility. Expected 56 from C header, got 64 from PyObject\n"
     ]
    }
   ],
   "source": [
    "import pickle\n",
    "import pandas as pd\n",
    "import numpy as np\n",
    "import torch\n",
    "import torch.nn as nn\n",
    "import torch.optim as optim\n",
    "import tqdm\n",
    "from torch.utils.data import Dataset, DataLoader\n",
    "import torchvision.models as models\n",
    "from sklearn.model_selection import train_test_split\n",
    "from sklearn.metrics import roc_auc_score, accuracy_score, f1_score\n",
    "\n",
    "\n",
    "class MushroomDataset(Dataset):\n",
    "    def __init__(self, data, labels):\n",
    "        self.data = data\n",
    "        self.labels = labels\n",
    "\n",
    "    def __len__(self):\n",
    "        return len(self.data)\n",
    "\n",
    "    def __getitem__(self, idx):\n",
    "        return torch.FloatTensor(self.data[idx]), torch.LongTensor([self.labels[idx]])\n"
   ]
  },
  {
   "cell_type": "code",
   "execution_count": 3,
   "metadata": {
    "id": "wi3vgJYSNzMp"
   },
   "outputs": [],
   "source": [
    "class ModifiedResNet(nn.Module):\n",
    "    def __init__(self):\n",
    "        super(ModifiedResNet, self).__init__()\n",
    "        # Load a pre-trained ResNet model\n",
    "        resnet = models.resnet18(pretrained=True)\n",
    "        # Remove the last layer (fully connected layer)\n",
    "        self.resnet_features = nn.Sequential(*list(resnet.children())[:-1])\n",
    "        # Modify the first layer to accept grayscale images\n",
    "        self.resnet_features[0] = nn.Conv2d(1, 64, kernel_size=7, stride=2, padding=3, bias=False)\n",
    "        # Add Batch Normalization\n",
    "        self.batch_norm = nn.BatchNorm1d(512)\n",
    "        # Add dropout to reduce overfitting\n",
    "        self.dropout = nn.Dropout(p=0.2)\n",
    "        # Define additional layers for classification\n",
    "        self.fc1 = nn.Linear(512, 64)\n",
    "        self.fc2 = nn.Linear(64, 2)  # Output has 2 classes\n",
    "\n",
    "    def forward(self, x):\n",
    "        x = self.resnet_features(x)\n",
    "        x = x.view(x.size(0), -1)  # Flatten\n",
    "        x = self.batch_norm(x)\n",
    "        x = torch.relu(self.fc1(x))\n",
    "        x = self.dropout(x)\n",
    "        x = self.fc2(x)\n",
    "        return x"
   ]
  },
  {
   "cell_type": "code",
   "execution_count": 4,
   "metadata": {
    "id": "lNrf_GRcN4H2"
   },
   "outputs": [],
   "source": [
    "# # Load data and labels\n",
    "# tags = pd.read_csv('mushroom.csv')[\"class\"]\n",
    "# tags = np.array([i == \"p\" for i in tags]).astype(np.int64)  # binary\n",
    "\n",
    "# with open(\"results.pkl\", \"rb\") as f:\n",
    "#     matrices_result, new_order_names = pickle.load(f)\n",
    "\n",
    "# matrices_result = matrices_result[:, np.newaxis, :, :]  # 61069, 1, 39, 119\n",
    "\n",
    "# # Split data into training, validation, and test sets randomly\n",
    "# #data_to_use, loset_data, labels_to_use, losed_labels = train_test_split(matrices_result, tags, test_size=0.99, random_state=42)\n",
    "# data_to_use, _,labels_to_use, _ = matrices_result, None, tags, None\n",
    "\n",
    "# train_data, test_val_data, train_labels, test_val_labels = train_test_split(data_to_use, labels_to_use, test_size=0.3, random_state=42)\n",
    "# val_data, test_data, val_labels, test_labels = train_test_split(test_val_data, test_val_labels, test_size=0.5, random_state=42)\n",
    "\n",
    "def run_HERMANN(train_data, train_labels, val_data, val_labels,test_data, test_labels):\n",
    "    # Create datasets and dataloaders\n",
    "    train_dataset = MushroomDataset(train_data, train_labels)\n",
    "    val_dataset = MushroomDataset(val_data, val_labels)\n",
    "    test_dataset = MushroomDataset(test_data, test_labels)\n",
    "\n",
    "    train_loader = DataLoader(train_dataset, batch_size=64, shuffle=True)\n",
    "    val_loader = DataLoader(val_dataset, batch_size=64, shuffle=False)\n",
    "    test_loader = DataLoader(test_dataset, batch_size=64, shuffle=False)\n",
    "\n",
    "    # Initialize model, loss function, and optimizer\n",
    "    model = ModifiedResNet()\n",
    "    criterion = nn.CrossEntropyLoss()\n",
    "    optimizer = optim.Adam(model.parameters(), lr=0.001, weight_decay=1e-4)\n",
    "\n",
    "    device = torch.device(\"cuda\" if torch.cuda.is_available() else \"cpu\")\n",
    "    model.to(device)\n",
    "\n",
    "    # Early stopping parameters\n",
    "    patience = 5\n",
    "    best_val_loss = float('inf')\n",
    "    epochs_no_improve = 0\n",
    "    best_model_weights = None\n",
    "\n",
    "    # Training loop\n",
    "    num_epochs = 1000\n",
    "    for epoch in range(num_epochs):\n",
    "        model.train()\n",
    "        running_loss = 0.0\n",
    "        for inputs, labels in tqdm.tqdm(train_loader):\n",
    "            optimizer.zero_grad()\n",
    "            outputs = model(inputs.to(device))\n",
    "            loss = criterion(outputs, labels.to(device).squeeze())\n",
    "            loss.backward()\n",
    "            optimizer.step()\n",
    "            running_loss += loss.item()\n",
    "\n",
    "        # Validation loop\n",
    "        model.eval()\n",
    "        val_loss = 0.0\n",
    "        correct = 0\n",
    "        total = 0\n",
    "        with torch.no_grad():\n",
    "            for inputs, labels in tqdm.tqdm(val_loader):\n",
    "                outputs = model(inputs.to(device))\n",
    "                _, predicted = torch.max(outputs.data, 1)\n",
    "                total += labels.size(0)\n",
    "                correct += (predicted == labels.to(device).squeeze()).sum().item()\n",
    "                val_loss += criterion(outputs, labels.to(device).squeeze()).item()\n",
    "        val_loss /= len(val_loader)\n",
    "        print(f\"Epoch {epoch + 1}/{num_epochs}, Loss: {running_loss}, Accuracy on validation set: {100 * correct / total:.2f}%, Validation Loss: {val_loss:.4f}\")\n",
    "\n",
    "        # Check for early stopping\n",
    "        if val_loss < best_val_loss:\n",
    "            best_val_loss = val_loss\n",
    "            epochs_no_improve = 0\n",
    "            # Save the best model weights\n",
    "            best_model_weights = model.state_dict()\n",
    "            if best_val_loss == 0.:\n",
    "              print(f'Early stopping after {epoch + 1} epochs.')\n",
    "              break\n",
    "        else:\n",
    "            epochs_no_improve += 1\n",
    "            if epochs_no_improve == patience:\n",
    "                print(f'Early stopping after {epoch + 1} epochs.')\n",
    "                break\n",
    "\n",
    "    # Load the best model weights for testing\n",
    "    if best_model_weights is not None:\n",
    "        model.load_state_dict(best_model_weights)\n",
    "\n",
    "    # Test loop\n",
    "    model.eval()\n",
    "    correct = 0\n",
    "    total = 0\n",
    "    all_labels = []\n",
    "    all_preds = []\n",
    "    all_probs = []\n",
    "\n",
    "    with torch.no_grad():\n",
    "        for inputs, labels in tqdm.tqdm(test_loader):\n",
    "            inputs, labels = inputs.to(device), labels.to(device)\n",
    "            outputs = model(inputs)\n",
    "            _, predicted = torch.max(outputs.data, 1)\n",
    "\n",
    "            total += labels.size(0)\n",
    "            correct += (predicted == labels.squeeze()).sum().item()\n",
    "\n",
    "            # Collect all labels and predictions for metrics calculation\n",
    "            all_labels.extend(labels.cpu().numpy())\n",
    "            all_preds.extend(predicted.cpu().numpy())\n",
    "            all_probs.extend(outputs.cpu().numpy())\n",
    "\n",
    "    # Calculate accuracy\n",
    "    accuracy = correct / total\n",
    "    print(f\"Accuracy on test set: {100 * accuracy:.2f}%\")\n",
    "\n",
    "    # Calculate AUC\n",
    "    auc = roc_auc_score(all_labels, [prob[1] for prob in all_probs])\n",
    "    print(f\"AUC on test set: {auc:.2f}\")\n",
    "\n",
    "    # Calculate F1 score\n",
    "    f1 = f1_score(all_labels, all_preds, average='binary')\n",
    "    print(f\"F1 score on test set: {f1:.2f}\")\n",
    "    return accuracy, auc, f1"
   ]
  },
  {
   "cell_type": "code",
   "execution_count": 5,
   "metadata": {
    "id": "RRATVGh9XBvX"
   },
   "outputs": [],
   "source": [
    "from pytorch_tabnet.tab_model import TabNetClassifier\n",
    "# # Load data and labels\n",
    "# raw = pd.read_csv('mushroom.csv')\n",
    "# tags = raw[\"class\"]\n",
    "# data = raw\n",
    "# del data[\"class\"]\n",
    "# tags = np.array([i == \"p\" for i in tags]).astype(np.int64)  # binary\n",
    "# data_encoded = pd.get_dummies(data)\n",
    "\n",
    "# # Split data into training, validation, and test sets randomly\n",
    "# #data_to_use, loset_data, labels_to_use, losed_labels = train_test_split(data_encoded, tags, test_size=0.98, random_state=42)\n",
    "# data_to_use, _,labels_to_use, _ = data_encoded, None, tags, None\n",
    "\n",
    "# train_data, test_val_data, train_labels, test_val_labels = train_test_split(data_to_use, labels_to_use, test_size=0.3,\n",
    "#                                                                           random_state=42)\n",
    "# val_data, test_data, val_labels, test_labels = train_test_split(test_val_data, test_val_labels, test_size=0.5,\n",
    "#                                                               random_state=42)\n",
    "\n",
    "def run_TabNet(train_data, train_labels,val_data, val_labels,test_data, test_labels):\n",
    "    # Define the TabNetClassifier model\n",
    "    model = TabNetClassifier()\n",
    "\n",
    "    # Fit the model\n",
    "    model.fit(\n",
    "        X_train=train_data.values.astype(float),\n",
    "        y_train=train_labels,\n",
    "        eval_set=[(val_data.values, val_labels)],\n",
    "        patience=5,  # Early stopping rounds\n",
    "        max_epochs=1000,  # Maximum number of epochs\n",
    "        eval_metric=['accuracy'],  # Evaluation metric\n",
    "        loss_fn=torch.nn.CrossEntropyLoss(),  # Loss function\n",
    "    )\n",
    "\n",
    "    # Evaluate the best model on the test set\n",
    "    test_predictions = model.predict(test_data.values.astype(float))\n",
    "    test_probs = model.predict_proba(test_data.values.astype(float))\n",
    "\n",
    "    # Calculate accuracy\n",
    "    accuracy = accuracy_score(test_labels, test_predictions)\n",
    "    print(f\"Accuracy on test set: {100 * accuracy:.2f}%\")\n",
    "\n",
    "    # Calculate AUC\n",
    "    auc = roc_auc_score(test_labels, test_probs[:, 1])\n",
    "    print(f\"AUC on test set: {auc:.2f}\")\n",
    "\n",
    "    # Calculate F1 score\n",
    "    f1 = f1_score(test_labels, test_predictions, average='binary')\n",
    "    print(f\"F1 score on test set: {f1:.2f}\")\n",
    "    return accuracy, auc, f1"
   ]
  },
  {
   "cell_type": "code",
   "execution_count": 6,
   "metadata": {
    "id": "jbrfViQ1ewb8"
   },
   "outputs": [],
   "source": [
    "import pandas as pd\n",
    "import numpy as np\n",
    "from sklearn.model_selection import train_test_split\n",
    "from sklearn.metrics import accuracy_score\n",
    "import xgboost as xgb\n",
    "\n",
    "# # Load data and labels\n",
    "# raw = pd.read_csv('mushroom.csv')\n",
    "# tags = raw[\"class\"]\n",
    "# data = raw.drop(columns=[\"class\"])\n",
    "# tags = np.array([i == \"p\" for i in tags]).astype(np.int64)  # binary\n",
    "# data_encoded = pd.get_dummies(data)\n",
    "\n",
    "# # Split data into training, validation, and test sets randomly\n",
    "# #data_to_use, loset_data, labels_to_use, losed_labels = train_test_split(data_encoded, tags, test_size=0.99, random_state=42)\n",
    "# data_to_use, _,labels_to_use, _ = data_encoded, None, tags, None\n",
    "\n",
    "# train_data, test_val_data, train_labels, test_val_labels = train_test_split(data_to_use, labels_to_use, test_size=0.3,\n",
    "#                                                                           random_state=42)\n",
    "# val_data, test_data, val_labels, test_labels = train_test_split(test_val_data, test_val_labels, test_size=0.5,\n",
    "#                                                               random_state=42)\n",
    "\n",
    "def run_Xgboost(train_data, train_labels,val_data, val_labels,test_data, test_labels):\n",
    "    # Define XGBoost model\n",
    "    model = xgb.XGBClassifier(objective='binary:logistic', random_state=42)\n",
    "\n",
    "    # Fit the model\n",
    "    model.fit(\n",
    "        train_data.values.astype(float),\n",
    "        train_labels,\n",
    "        eval_set=[(val_data.values, val_labels)],\n",
    "        eval_metric='error',  # Evaluation metric\n",
    "        early_stopping_rounds=5,  # Early stopping rounds\n",
    "        verbose=True\n",
    "    )\n",
    "\n",
    "    # Evaluate the best model on the test set\n",
    "    test_predictions = model.predict(test_data.values.astype(float))\n",
    "    test_probs = model.predict_proba(test_data.values.astype(float))\n",
    "\n",
    "    # Calculate accuracy\n",
    "    accuracy = accuracy_score(test_labels, test_predictions)\n",
    "    print(f\"Accuracy on test set: {100 * accuracy:.2f}%\")\n",
    "\n",
    "    # Calculate AUC\n",
    "    auc = roc_auc_score(test_labels, test_probs[:, 1])\n",
    "    print(f\"AUC on test set: {auc:.2f}\")\n",
    "\n",
    "    # Calculate F1 score\n",
    "    f1 = f1_score(test_labels, test_predictions, average='binary')\n",
    "    print(f\"F1 score on test set: {f1:.2f}\")\n",
    "    return accuracy, auc, f1"
   ]
  },
  {
   "cell_type": "code",
   "execution_count": 12,
   "metadata": {
    "id": "Ppop0pS8kIyW"
   },
   "outputs": [],
   "source": [
    "def run_all(size):\n",
    "    # Load data and labels\n",
    "    tags = pd.read_csv('mushroom.csv')[\"class\"]\n",
    "    tags = np.array([i == \"p\" for i in tags]).astype(np.int64)  # binary\n",
    "\n",
    "    with open(\"results.pkl\", \"rb\") as f:\n",
    "        matrices_result, new_order_names = pickle.load(f)\n",
    "\n",
    "    matrices_result = matrices_result[:, np.newaxis, :, :]  # 61069, 1, 39, 119\n",
    "\n",
    "    # Split data into training, validation, and test sets randomly\n",
    "    if size == 0:\n",
    "        data_to_use, _,labels_to_use, _ = matrices_result, None, tags, None\n",
    "    else:\n",
    "        data_to_use, loset_data, labels_to_use, losed_labels = train_test_split(matrices_result, tags, test_size=size, random_state=42)\n",
    "\n",
    "    del matrices_result\n",
    "\n",
    "    train_data, test_val_data, train_labels, test_val_labels = train_test_split(data_to_use, labels_to_use, test_size=0.3, random_state=42)\n",
    "    val_data, test_data, val_labels, test_labels = train_test_split(test_val_data, test_val_labels, test_size=0.5, random_state=42)\n",
    "    h_acc, h_auc, h_f1 = run_HERMANN(train_data, train_labels,val_data, val_labels,test_data, test_labels)\n",
    "\n",
    "    #########################\n",
    "    # Load data and labels\n",
    "    raw = pd.read_csv('mushroom.csv')\n",
    "    tags = raw[\"class\"]\n",
    "    data = raw.drop(columns=[\"class\"])\n",
    "    tags = np.array([i == \"p\" for i in tags]).astype(np.int64)  # binary\n",
    "    data_encoded = pd.get_dummies(data)\n",
    "\n",
    "    # Split data into training, validation, and test sets randomly\n",
    "    if size == 0:\n",
    "        data_to_use, _,labels_to_use, _ = data_encoded, None, tags, None\n",
    "    else:\n",
    "        data_to_use, loset_data, labels_to_use, losed_labels = train_test_split(data_encoded, tags, test_size=size, random_state=42)\n",
    "\n",
    "    train_data, test_val_data, train_labels, test_val_labels = train_test_split(data_to_use, labels_to_use, test_size=0.3,\n",
    "                                                                              random_state=42)\n",
    "    val_data, test_data, val_labels, test_labels = train_test_split(test_val_data, test_val_labels, test_size=0.5,\n",
    "                                                                  random_state=42)\n",
    "    t_acc, t_auc, t_f1 = run_TabNet(train_data, train_labels,val_data, val_labels,test_data, test_labels)\n",
    "    x_acc, x_auc, x_f1 = run_Xgboost(train_data, train_labels,val_data, val_labels,test_data, test_labels)\n",
    "\n",
    "    return {\"hermann\":[h_acc, h_auc, h_f1],\n",
    "            \"tabnet\":[t_acc, t_auc, t_f1],\n",
    "            \"xgboost\":[x_acc, x_auc, x_f1]}"
   ]
  },
  {
   "cell_type": "code",
   "execution_count": 13,
   "metadata": {
    "colab": {
     "base_uri": "https://localhost:8080/",
     "height": 1000
    },
    "id": "KAbTlk7jlYMj",
    "outputId": "b8ed9248-579a-4b24-c25e-45a2e247bab9"
   },
   "outputs": [
    {
     "name": "stderr",
     "output_type": "stream",
     "text": [
      "100%|█████████████████████████████████████████████████████████████████████████████████████████████████████████████████████████████████████████████████████████████████| 668/668 [00:17<00:00, 37.75it/s]\n",
      "100%|████████████████████████████████████████████████████████████████████████████████████████████████████████████████████████████████████████████████████████████████| 144/144 [00:01<00:00, 127.72it/s]\n"
     ]
    },
    {
     "name": "stdout",
     "output_type": "stream",
     "text": [
      "Epoch 1/1000, Loss: 136.51484986487776, Accuracy on validation set: 96.47%, Validation Loss: 0.0892\n"
     ]
    },
    {
     "name": "stderr",
     "output_type": "stream",
     "text": [
      "100%|█████████████████████████████████████████████████████████████████████████████████████████████████████████████████████████████████████████████████████████████████| 668/668 [00:17<00:00, 37.48it/s]\n",
      "100%|████████████████████████████████████████████████████████████████████████████████████████████████████████████████████████████████████████████████████████████████| 144/144 [00:01<00:00, 125.31it/s]\n"
     ]
    },
    {
     "name": "stdout",
     "output_type": "stream",
     "text": [
      "Epoch 2/1000, Loss: 28.247588039725088, Accuracy on validation set: 99.24%, Validation Loss: 0.0196\n"
     ]
    },
    {
     "name": "stderr",
     "output_type": "stream",
     "text": [
      "100%|█████████████████████████████████████████████████████████████████████████████████████████████████████████████████████████████████████████████████████████████████| 668/668 [00:18<00:00, 36.57it/s]\n",
      "100%|████████████████████████████████████████████████████████████████████████████████████████████████████████████████████████████████████████████████████████████████| 144/144 [00:01<00:00, 125.62it/s]\n"
     ]
    },
    {
     "name": "stdout",
     "output_type": "stream",
     "text": [
      "Epoch 3/1000, Loss: 22.816130248334957, Accuracy on validation set: 99.84%, Validation Loss: 0.0118\n"
     ]
    },
    {
     "name": "stderr",
     "output_type": "stream",
     "text": [
      "100%|█████████████████████████████████████████████████████████████████████████████████████████████████████████████████████████████████████████████████████████████████| 668/668 [00:18<00:00, 36.91it/s]\n",
      "100%|████████████████████████████████████████████████████████████████████████████████████████████████████████████████████████████████████████████████████████████████| 144/144 [00:01<00:00, 124.82it/s]\n"
     ]
    },
    {
     "name": "stdout",
     "output_type": "stream",
     "text": [
      "Epoch 4/1000, Loss: 16.06387661516783, Accuracy on validation set: 98.53%, Validation Loss: 0.0440\n"
     ]
    },
    {
     "name": "stderr",
     "output_type": "stream",
     "text": [
      "100%|█████████████████████████████████████████████████████████████████████████████████████████████████████████████████████████████████████████████████████████████████| 668/668 [00:18<00:00, 36.48it/s]\n",
      "100%|████████████████████████████████████████████████████████████████████████████████████████████████████████████████████████████████████████████████████████████████| 144/144 [00:01<00:00, 125.47it/s]\n"
     ]
    },
    {
     "name": "stdout",
     "output_type": "stream",
     "text": [
      "Epoch 5/1000, Loss: 10.59126356903289, Accuracy on validation set: 99.87%, Validation Loss: 0.0053\n"
     ]
    },
    {
     "name": "stderr",
     "output_type": "stream",
     "text": [
      "100%|█████████████████████████████████████████████████████████████████████████████████████████████████████████████████████████████████████████████████████████████████| 668/668 [00:18<00:00, 36.86it/s]\n",
      "100%|████████████████████████████████████████████████████████████████████████████████████████████████████████████████████████████████████████████████████████████████| 144/144 [00:01<00:00, 126.36it/s]\n"
     ]
    },
    {
     "name": "stdout",
     "output_type": "stream",
     "text": [
      "Epoch 6/1000, Loss: 13.686773629320669, Accuracy on validation set: 99.68%, Validation Loss: 0.0125\n"
     ]
    },
    {
     "name": "stderr",
     "output_type": "stream",
     "text": [
      "100%|█████████████████████████████████████████████████████████████████████████████████████████████████████████████████████████████████████████████████████████████████| 668/668 [00:18<00:00, 36.96it/s]\n",
      "100%|████████████████████████████████████████████████████████████████████████████████████████████████████████████████████████████████████████████████████████████████| 144/144 [00:01<00:00, 123.77it/s]\n"
     ]
    },
    {
     "name": "stdout",
     "output_type": "stream",
     "text": [
      "Epoch 7/1000, Loss: 9.292286467847589, Accuracy on validation set: 99.97%, Validation Loss: 0.0022\n"
     ]
    },
    {
     "name": "stderr",
     "output_type": "stream",
     "text": [
      "100%|█████████████████████████████████████████████████████████████████████████████████████████████████████████████████████████████████████████████████████████████████| 668/668 [00:18<00:00, 36.15it/s]\n",
      "100%|████████████████████████████████████████████████████████████████████████████████████████████████████████████████████████████████████████████████████████████████| 144/144 [00:01<00:00, 126.71it/s]\n"
     ]
    },
    {
     "name": "stdout",
     "output_type": "stream",
     "text": [
      "Epoch 8/1000, Loss: 9.004152049070399, Accuracy on validation set: 99.67%, Validation Loss: 0.0148\n"
     ]
    },
    {
     "name": "stderr",
     "output_type": "stream",
     "text": [
      "100%|█████████████████████████████████████████████████████████████████████████████████████████████████████████████████████████████████████████████████████████████████| 668/668 [00:18<00:00, 35.41it/s]\n",
      "100%|████████████████████████████████████████████████████████████████████████████████████████████████████████████████████████████████████████████████████████████████| 144/144 [00:01<00:00, 124.67it/s]\n"
     ]
    },
    {
     "name": "stdout",
     "output_type": "stream",
     "text": [
      "Epoch 9/1000, Loss: 5.052436651856624, Accuracy on validation set: 99.99%, Validation Loss: 0.0002\n"
     ]
    },
    {
     "name": "stderr",
     "output_type": "stream",
     "text": [
      "100%|█████████████████████████████████████████████████████████████████████████████████████████████████████████████████████████████████████████████████████████████████| 668/668 [00:18<00:00, 36.86it/s]\n",
      "100%|████████████████████████████████████████████████████████████████████████████████████████████████████████████████████████████████████████████████████████████████| 144/144 [00:01<00:00, 129.06it/s]\n"
     ]
    },
    {
     "name": "stdout",
     "output_type": "stream",
     "text": [
      "Epoch 10/1000, Loss: 9.970200247151297, Accuracy on validation set: 99.27%, Validation Loss: 0.0213\n"
     ]
    },
    {
     "name": "stderr",
     "output_type": "stream",
     "text": [
      "100%|█████████████████████████████████████████████████████████████████████████████████████████████████████████████████████████████████████████████████████████████████| 668/668 [00:18<00:00, 36.82it/s]\n",
      "100%|████████████████████████████████████████████████████████████████████████████████████████████████████████████████████████████████████████████████████████████████| 144/144 [00:01<00:00, 122.41it/s]\n"
     ]
    },
    {
     "name": "stdout",
     "output_type": "stream",
     "text": [
      "Epoch 11/1000, Loss: 7.231403625733947, Accuracy on validation set: 99.98%, Validation Loss: 0.0014\n"
     ]
    },
    {
     "name": "stderr",
     "output_type": "stream",
     "text": [
      "100%|█████████████████████████████████████████████████████████████████████████████████████████████████████████████████████████████████████████████████████████████████| 668/668 [00:18<00:00, 36.85it/s]\n",
      "100%|████████████████████████████████████████████████████████████████████████████████████████████████████████████████████████████████████████████████████████████████| 144/144 [00:01<00:00, 127.17it/s]\n"
     ]
    },
    {
     "name": "stdout",
     "output_type": "stream",
     "text": [
      "Epoch 12/1000, Loss: 8.48054697135376, Accuracy on validation set: 99.98%, Validation Loss: 0.0013\n"
     ]
    },
    {
     "name": "stderr",
     "output_type": "stream",
     "text": [
      "100%|█████████████████████████████████████████████████████████████████████████████████████████████████████████████████████████████████████████████████████████████████| 668/668 [00:18<00:00, 36.79it/s]\n",
      "100%|████████████████████████████████████████████████████████████████████████████████████████████████████████████████████████████████████████████████████████████████| 144/144 [00:01<00:00, 125.71it/s]\n"
     ]
    },
    {
     "name": "stdout",
     "output_type": "stream",
     "text": [
      "Epoch 13/1000, Loss: 1.9042631448937755, Accuracy on validation set: 97.53%, Validation Loss: 0.0642\n"
     ]
    },
    {
     "name": "stderr",
     "output_type": "stream",
     "text": [
      "100%|█████████████████████████████████████████████████████████████████████████████████████████████████████████████████████████████████████████████████████████████████| 668/668 [00:18<00:00, 36.30it/s]\n",
      "100%|████████████████████████████████████████████████████████████████████████████████████████████████████████████████████████████████████████████████████████████████| 144/144 [00:01<00:00, 129.34it/s]\n"
     ]
    },
    {
     "name": "stdout",
     "output_type": "stream",
     "text": [
      "Epoch 14/1000, Loss: 6.910632681756397, Accuracy on validation set: 100.00%, Validation Loss: 0.0005\n",
      "Early stopping after 14 epochs.\n"
     ]
    },
    {
     "name": "stderr",
     "output_type": "stream",
     "text": [
      "100%|████████████████████████████████████████████████████████████████████████████████████████████████████████████████████████████████████████████████████████████████| 144/144 [00:01<00:00, 122.90it/s]\n"
     ]
    },
    {
     "name": "stdout",
     "output_type": "stream",
     "text": [
      "Accuracy on test set: 99.99%\n",
      "AUC on test set: 1.00\n",
      "F1 score on test set: 1.00\n"
     ]
    },
    {
     "name": "stderr",
     "output_type": "stream",
     "text": [
      "/home/dsi/vignano/miniconda3/lib/python3.9/site-packages/pytorch_tabnet/abstract_model.py:82: UserWarning: Device used : cuda\n",
      "  warnings.warn(f\"Device used : {self.device}\")\n"
     ]
    },
    {
     "name": "stdout",
     "output_type": "stream",
     "text": [
      "epoch 0  | loss: 0.67513 | val_0_accuracy: 0.49443 |  0:00:02s\n",
      "epoch 1  | loss: 0.45414 | val_0_accuracy: 0.63472 |  0:00:04s\n",
      "epoch 2  | loss: 0.21551 | val_0_accuracy: 0.7631  |  0:00:06s\n",
      "epoch 3  | loss: 0.06913 | val_0_accuracy: 0.86288 |  0:00:09s\n",
      "epoch 4  | loss: 0.04495 | val_0_accuracy: 0.92849 |  0:00:11s\n",
      "epoch 5  | loss: 0.03058 | val_0_accuracy: 0.94945 |  0:00:13s\n",
      "epoch 6  | loss: 0.0159  | val_0_accuracy: 0.96943 |  0:00:15s\n",
      "epoch 7  | loss: 0.01169 | val_0_accuracy: 0.9917  |  0:00:18s\n",
      "epoch 8  | loss: 0.01023 | val_0_accuracy: 0.99203 |  0:00:20s\n",
      "epoch 9  | loss: 0.01113 | val_0_accuracy: 0.99891 |  0:00:22s\n",
      "epoch 10 | loss: 0.00677 | val_0_accuracy: 0.99891 |  0:00:24s\n",
      "epoch 11 | loss: 0.00984 | val_0_accuracy: 0.99913 |  0:00:26s\n",
      "epoch 12 | loss: 0.01259 | val_0_accuracy: 0.99945 |  0:00:29s\n",
      "epoch 13 | loss: 0.00853 | val_0_accuracy: 0.99956 |  0:00:31s\n",
      "epoch 14 | loss: 0.00561 | val_0_accuracy: 1.0     |  0:00:33s\n",
      "epoch 15 | loss: 0.00646 | val_0_accuracy: 0.99945 |  0:00:35s\n",
      "epoch 16 | loss: 0.00547 | val_0_accuracy: 0.99945 |  0:00:38s\n",
      "epoch 17 | loss: 0.00423 | val_0_accuracy: 1.0     |  0:00:40s\n",
      "epoch 18 | loss: 0.00572 | val_0_accuracy: 1.0     |  0:00:42s\n",
      "epoch 19 | loss: 0.00465 | val_0_accuracy: 1.0     |  0:00:44s\n",
      "\n",
      "Early stopping occurred at epoch 19 with best_epoch = 14 and best_val_0_accuracy = 1.0\n"
     ]
    },
    {
     "name": "stderr",
     "output_type": "stream",
     "text": [
      "/home/dsi/vignano/miniconda3/lib/python3.9/site-packages/pytorch_tabnet/callbacks.py:172: UserWarning: Best weights from best epoch are automatically used!\n",
      "  warnings.warn(wrn_msg)\n"
     ]
    },
    {
     "name": "stdout",
     "output_type": "stream",
     "text": [
      "Accuracy on test set: 100.00%\n",
      "AUC on test set: 1.00\n",
      "F1 score on test set: 1.00\n",
      "[0]\tvalidation_0-error:0.29629\n",
      "[1]\tvalidation_0-error:0.15087\n",
      "[2]\tvalidation_0-error:0.07969\n",
      "[3]\tvalidation_0-error:0.07391\n",
      "[4]\tvalidation_0-error:0.06299\n",
      "[5]\tvalidation_0-error:0.06212\n",
      "[6]\tvalidation_0-error:0.04858\n",
      "[7]\tvalidation_0-error:0.04978\n",
      "[8]\tvalidation_0-error:0.04672\n",
      "[9]\tvalidation_0-error:0.05098\n",
      "[10]\tvalidation_0-error:0.03886\n",
      "[11]\tvalidation_0-error:0.03581\n",
      "[12]\tvalidation_0-error:0.03264\n",
      "[13]\tvalidation_0-error:0.02915\n",
      "[14]\tvalidation_0-error:0.02675\n",
      "[15]\tvalidation_0-error:0.02642\n",
      "[16]\tvalidation_0-error:0.02642\n",
      "[17]\tvalidation_0-error:0.02609\n",
      "[18]\tvalidation_0-error:0.02391\n",
      "[19]\tvalidation_0-error:0.02434\n",
      "[20]\tvalidation_0-error:0.01681\n",
      "[21]\tvalidation_0-error:0.01856\n"
     ]
    },
    {
     "name": "stderr",
     "output_type": "stream",
     "text": [
      "/home/dsi/vignano/miniconda3/lib/python3.9/site-packages/xgboost/sklearn.py:889: UserWarning: `eval_metric` in `fit` method is deprecated for better compatibility with scikit-learn, use `eval_metric` in constructor or`set_params` instead.\n",
      "  warnings.warn(\n",
      "/home/dsi/vignano/miniconda3/lib/python3.9/site-packages/xgboost/sklearn.py:889: UserWarning: `early_stopping_rounds` in `fit` method is deprecated for better compatibility with scikit-learn, use `early_stopping_rounds` in constructor or`set_params` instead.\n",
      "  warnings.warn(\n"
     ]
    },
    {
     "name": "stdout",
     "output_type": "stream",
     "text": [
      "[22]\tvalidation_0-error:0.01452\n",
      "[23]\tvalidation_0-error:0.01277\n",
      "[24]\tvalidation_0-error:0.01081\n",
      "[25]\tvalidation_0-error:0.00753\n",
      "[26]\tvalidation_0-error:0.00644\n",
      "[27]\tvalidation_0-error:0.00775\n",
      "[28]\tvalidation_0-error:0.00710\n",
      "[29]\tvalidation_0-error:0.00633\n",
      "[30]\tvalidation_0-error:0.00633\n",
      "[31]\tvalidation_0-error:0.00644\n",
      "[32]\tvalidation_0-error:0.00557\n",
      "[33]\tvalidation_0-error:0.00600\n",
      "[34]\tvalidation_0-error:0.00579\n",
      "[35]\tvalidation_0-error:0.00579\n",
      "[36]\tvalidation_0-error:0.00426\n",
      "[37]\tvalidation_0-error:0.00437\n",
      "[38]\tvalidation_0-error:0.00415\n",
      "[39]\tvalidation_0-error:0.00404\n",
      "[40]\tvalidation_0-error:0.00295\n",
      "[41]\tvalidation_0-error:0.00240\n",
      "[42]\tvalidation_0-error:0.00240\n",
      "[43]\tvalidation_0-error:0.00240\n",
      "[44]\tvalidation_0-error:0.00240\n",
      "[45]\tvalidation_0-error:0.00240\n",
      "[46]\tvalidation_0-error:0.00218\n",
      "[47]\tvalidation_0-error:0.00207\n",
      "[48]\tvalidation_0-error:0.00207\n",
      "[49]\tvalidation_0-error:0.00197\n",
      "[50]\tvalidation_0-error:0.00186\n",
      "[51]\tvalidation_0-error:0.00164\n",
      "[52]\tvalidation_0-error:0.00164\n",
      "[53]\tvalidation_0-error:0.00175\n",
      "[54]\tvalidation_0-error:0.00175\n",
      "[55]\tvalidation_0-error:0.00164\n",
      "[56]\tvalidation_0-error:0.00120\n",
      "[57]\tvalidation_0-error:0.00109\n",
      "[58]\tvalidation_0-error:0.00076\n",
      "[59]\tvalidation_0-error:0.00087\n",
      "[60]\tvalidation_0-error:0.00044\n",
      "[61]\tvalidation_0-error:0.00033\n",
      "[62]\tvalidation_0-error:0.00044\n",
      "[63]\tvalidation_0-error:0.00044\n",
      "[64]\tvalidation_0-error:0.00033\n",
      "[65]\tvalidation_0-error:0.00033\n",
      "[66]\tvalidation_0-error:0.00055\n",
      "Accuracy on test set: 99.97%\n",
      "AUC on test set: 1.00\n",
      "F1 score on test set: 1.00\n"
     ]
    },
    {
     "name": "stderr",
     "output_type": "stream",
     "text": [
      "100%|█████████████████████████████████████████████████████████████████████████████████████████████████████████████████████████████████████████████████████████████████| 334/334 [00:08<00:00, 38.34it/s]\n",
      "100%|██████████████████████████████████████████████████████████████████████████████████████████████████████████████████████████████████████████████████████████████████| 72/72 [00:00<00:00, 131.21it/s]\n"
     ]
    },
    {
     "name": "stdout",
     "output_type": "stream",
     "text": [
      "Epoch 1/1000, Loss: 109.98214599490166, Accuracy on validation set: 93.38%, Validation Loss: 0.1729\n"
     ]
    },
    {
     "name": "stderr",
     "output_type": "stream",
     "text": [
      "100%|█████████████████████████████████████████████████████████████████████████████████████████████████████████████████████████████████████████████████████████████████| 334/334 [00:08<00:00, 38.06it/s]\n",
      "100%|██████████████████████████████████████████████████████████████████████████████████████████████████████████████████████████████████████████████████████████████████| 72/72 [00:00<00:00, 133.02it/s]\n"
     ]
    },
    {
     "name": "stdout",
     "output_type": "stream",
     "text": [
      "Epoch 2/1000, Loss: 32.67596203973517, Accuracy on validation set: 91.90%, Validation Loss: 0.1957\n"
     ]
    },
    {
     "name": "stderr",
     "output_type": "stream",
     "text": [
      "100%|█████████████████████████████████████████████████████████████████████████████████████████████████████████████████████████████████████████████████████████████████| 334/334 [00:08<00:00, 37.63it/s]\n",
      "100%|██████████████████████████████████████████████████████████████████████████████████████████████████████████████████████████████████████████████████████████████████| 72/72 [00:00<00:00, 133.37it/s]\n"
     ]
    },
    {
     "name": "stdout",
     "output_type": "stream",
     "text": [
      "Epoch 3/1000, Loss: 15.289435661165044, Accuracy on validation set: 97.79%, Validation Loss: 0.0746\n"
     ]
    },
    {
     "name": "stderr",
     "output_type": "stream",
     "text": [
      "100%|█████████████████████████████████████████████████████████████████████████████████████████████████████████████████████████████████████████████████████████████████| 334/334 [00:08<00:00, 37.57it/s]\n",
      "100%|██████████████████████████████████████████████████████████████████████████████████████████████████████████████████████████████████████████████████████████████████| 72/72 [00:00<00:00, 125.24it/s]\n"
     ]
    },
    {
     "name": "stdout",
     "output_type": "stream",
     "text": [
      "Epoch 4/1000, Loss: 14.161149887251668, Accuracy on validation set: 99.80%, Validation Loss: 0.0096\n"
     ]
    },
    {
     "name": "stderr",
     "output_type": "stream",
     "text": [
      "100%|█████████████████████████████████████████████████████████████████████████████████████████████████████████████████████████████████████████████████████████████████| 334/334 [00:09<00:00, 34.96it/s]\n",
      "100%|██████████████████████████████████████████████████████████████████████████████████████████████████████████████████████████████████████████████████████████████████| 72/72 [00:00<00:00, 122.12it/s]\n"
     ]
    },
    {
     "name": "stdout",
     "output_type": "stream",
     "text": [
      "Epoch 5/1000, Loss: 10.176853757628123, Accuracy on validation set: 98.65%, Validation Loss: 0.0408\n"
     ]
    },
    {
     "name": "stderr",
     "output_type": "stream",
     "text": [
      "100%|█████████████████████████████████████████████████████████████████████████████████████████████████████████████████████████████████████████████████████████████████| 334/334 [00:08<00:00, 37.25it/s]\n",
      "100%|██████████████████████████████████████████████████████████████████████████████████████████████████████████████████████████████████████████████████████████████████| 72/72 [00:00<00:00, 129.55it/s]\n"
     ]
    },
    {
     "name": "stdout",
     "output_type": "stream",
     "text": [
      "Epoch 6/1000, Loss: 11.408783165068598, Accuracy on validation set: 98.25%, Validation Loss: 0.0421\n"
     ]
    },
    {
     "name": "stderr",
     "output_type": "stream",
     "text": [
      "100%|█████████████████████████████████████████████████████████████████████████████████████████████████████████████████████████████████████████████████████████████████| 334/334 [00:09<00:00, 36.16it/s]\n",
      "100%|██████████████████████████████████████████████████████████████████████████████████████████████████████████████████████████████████████████████████████████████████| 72/72 [00:00<00:00, 122.06it/s]\n"
     ]
    },
    {
     "name": "stdout",
     "output_type": "stream",
     "text": [
      "Epoch 7/1000, Loss: 8.58595347031951, Accuracy on validation set: 98.82%, Validation Loss: 0.0333\n"
     ]
    },
    {
     "name": "stderr",
     "output_type": "stream",
     "text": [
      "100%|█████████████████████████████████████████████████████████████████████████████████████████████████████████████████████████████████████████████████████████████████| 334/334 [00:09<00:00, 34.78it/s]\n",
      "100%|██████████████████████████████████████████████████████████████████████████████████████████████████████████████████████████████████████████████████████████████████| 72/72 [00:00<00:00, 122.75it/s]\n"
     ]
    },
    {
     "name": "stdout",
     "output_type": "stream",
     "text": [
      "Epoch 8/1000, Loss: 5.041894857160514, Accuracy on validation set: 99.39%, Validation Loss: 0.0185\n"
     ]
    },
    {
     "name": "stderr",
     "output_type": "stream",
     "text": [
      "100%|█████████████████████████████████████████████████████████████████████████████████████████████████████████████████████████████████████████████████████████████████| 334/334 [00:09<00:00, 36.81it/s]\n",
      "100%|██████████████████████████████████████████████████████████████████████████████████████████████████████████████████████████████████████████████████████████████████| 72/72 [00:00<00:00, 127.03it/s]\n"
     ]
    },
    {
     "name": "stdout",
     "output_type": "stream",
     "text": [
      "Epoch 9/1000, Loss: 5.661721854572534, Accuracy on validation set: 98.93%, Validation Loss: 0.0324\n",
      "Early stopping after 9 epochs.\n"
     ]
    },
    {
     "name": "stderr",
     "output_type": "stream",
     "text": [
      "100%|██████████████████████████████████████████████████████████████████████████████████████████████████████████████████████████████████████████████████████████████████| 72/72 [00:00<00:00, 127.57it/s]\n"
     ]
    },
    {
     "name": "stdout",
     "output_type": "stream",
     "text": [
      "Accuracy on test set: 98.93%\n",
      "AUC on test set: 1.00\n",
      "F1 score on test set: 0.99\n"
     ]
    },
    {
     "name": "stderr",
     "output_type": "stream",
     "text": [
      "/home/dsi/vignano/miniconda3/lib/python3.9/site-packages/pytorch_tabnet/abstract_model.py:82: UserWarning: Device used : cuda\n",
      "  warnings.warn(f\"Device used : {self.device}\")\n"
     ]
    },
    {
     "name": "stdout",
     "output_type": "stream",
     "text": [
      "epoch 0  | loss: 0.7347  | val_0_accuracy: 0.60044 |  0:00:01s\n",
      "epoch 1  | loss: 0.63474 | val_0_accuracy: 0.61354 |  0:00:02s\n",
      "epoch 2  | loss: 0.55575 | val_0_accuracy: 0.60524 |  0:00:03s\n",
      "epoch 3  | loss: 0.42953 | val_0_accuracy: 0.63537 |  0:00:04s\n",
      "epoch 4  | loss: 0.28519 | val_0_accuracy: 0.70131 |  0:00:05s\n",
      "epoch 5  | loss: 0.18226 | val_0_accuracy: 0.78559 |  0:00:06s\n",
      "epoch 6  | loss: 0.11344 | val_0_accuracy: 0.82838 |  0:00:07s\n",
      "epoch 7  | loss: 0.08874 | val_0_accuracy: 0.80677 |  0:00:09s\n",
      "epoch 8  | loss: 0.06905 | val_0_accuracy: 0.84738 |  0:00:10s\n",
      "epoch 9  | loss: 0.04461 | val_0_accuracy: 0.92271 |  0:00:11s\n",
      "epoch 10 | loss: 0.05492 | val_0_accuracy: 0.93799 |  0:00:12s\n",
      "epoch 11 | loss: 0.03675 | val_0_accuracy: 0.96616 |  0:00:13s\n",
      "epoch 12 | loss: 0.02331 | val_0_accuracy: 0.96092 |  0:00:14s\n",
      "epoch 13 | loss: 0.01896 | val_0_accuracy: 0.97424 |  0:00:15s\n",
      "epoch 14 | loss: 0.01873 | val_0_accuracy: 0.97795 |  0:00:16s\n",
      "epoch 15 | loss: 0.01367 | val_0_accuracy: 0.98537 |  0:00:18s\n",
      "epoch 16 | loss: 0.01458 | val_0_accuracy: 0.98734 |  0:00:19s\n",
      "epoch 17 | loss: 0.01766 | val_0_accuracy: 0.99541 |  0:00:20s\n",
      "epoch 18 | loss: 0.01506 | val_0_accuracy: 0.99105 |  0:00:21s\n",
      "epoch 19 | loss: 0.02357 | val_0_accuracy: 0.99301 |  0:00:22s\n",
      "epoch 20 | loss: 0.01419 | val_0_accuracy: 0.99476 |  0:00:23s\n",
      "epoch 21 | loss: 0.01565 | val_0_accuracy: 0.99585 |  0:00:24s\n",
      "epoch 22 | loss: 0.01079 | val_0_accuracy: 0.99825 |  0:00:26s\n",
      "epoch 23 | loss: 0.00972 | val_0_accuracy: 0.99913 |  0:00:27s\n",
      "epoch 24 | loss: 0.0147  | val_0_accuracy: 0.99978 |  0:00:28s\n",
      "epoch 25 | loss: 0.01153 | val_0_accuracy: 0.99956 |  0:00:29s\n",
      "epoch 26 | loss: 0.01511 | val_0_accuracy: 1.0     |  0:00:30s\n",
      "epoch 27 | loss: 0.01185 | val_0_accuracy: 0.99956 |  0:00:31s\n",
      "epoch 28 | loss: 0.01138 | val_0_accuracy: 0.99956 |  0:00:32s\n",
      "epoch 29 | loss: 0.00936 | val_0_accuracy: 0.99956 |  0:00:33s\n",
      "epoch 30 | loss: 0.00701 | val_0_accuracy: 0.99934 |  0:00:34s\n",
      "epoch 31 | loss: 0.00542 | val_0_accuracy: 0.99956 |  0:00:35s\n",
      "\n",
      "Early stopping occurred at epoch 31 with best_epoch = 26 and best_val_0_accuracy = 1.0\n"
     ]
    },
    {
     "name": "stderr",
     "output_type": "stream",
     "text": [
      "/home/dsi/vignano/miniconda3/lib/python3.9/site-packages/pytorch_tabnet/callbacks.py:172: UserWarning: Best weights from best epoch are automatically used!\n",
      "  warnings.warn(wrn_msg)\n"
     ]
    },
    {
     "name": "stdout",
     "output_type": "stream",
     "text": [
      "Accuracy on test set: 100.00%\n",
      "AUC on test set: 1.00\n",
      "F1 score on test set: 1.00\n",
      "[0]\tvalidation_0-error:0.32511\n",
      "[1]\tvalidation_0-error:0.16790\n",
      "[2]\tvalidation_0-error:0.13690\n",
      "[3]\tvalidation_0-error:0.06921\n",
      "[4]\tvalidation_0-error:0.05459\n",
      "[5]\tvalidation_0-error:0.04934\n",
      "[6]\tvalidation_0-error:0.04869\n",
      "[7]\tvalidation_0-error:0.04454\n",
      "[8]\tvalidation_0-error:0.04323\n",
      "[9]\tvalidation_0-error:0.04148\n",
      "[10]\tvalidation_0-error:0.03537\n",
      "[11]\tvalidation_0-error:0.03144\n",
      "[12]\tvalidation_0-error:0.02795\n",
      "[13]\tvalidation_0-error:0.02598\n",
      "[14]\tvalidation_0-error:0.02358\n",
      "[15]\tvalidation_0-error:0.02074\n",
      "[16]\tvalidation_0-error:0.02096\n",
      "[17]\tvalidation_0-error:0.02096\n",
      "[18]\tvalidation_0-error:0.01834\n",
      "[19]\tvalidation_0-error:0.01900\n",
      "[20]\tvalidation_0-error:0.01572\n",
      "[21]\tvalidation_0-error:0.01572\n",
      "[22]\tvalidation_0-error:0.01376\n",
      "[23]\tvalidation_0-error:0.01026\n",
      "[24]\tvalidation_0-error:0.01114\n",
      "[25]\tvalidation_0-error:0.00983\n",
      "[26]\tvalidation_0-error:0.00939\n",
      "[27]\tvalidation_0-error:0.00852\n",
      "[28]\tvalidation_0-error:0.00677\n",
      "[29]\tvalidation_0-error:0.00437\n",
      "[30]\tvalidation_0-error:0.00415\n",
      "[31]\tvalidation_0-error:0.00284\n",
      "[32]\tvalidation_0-error:0.00306\n",
      "[33]\tvalidation_0-error:0.00284\n",
      "[34]\tvalidation_0-error:0.00240\n",
      "[35]\tvalidation_0-error:0.00218\n",
      "[36]\tvalidation_0-error:0.00218\n",
      "[37]\tvalidation_0-error:0.00218\n",
      "[38]\tvalidation_0-error:0.00218\n",
      "[39]\tvalidation_0-error:0.00218\n"
     ]
    },
    {
     "name": "stderr",
     "output_type": "stream",
     "text": [
      "/home/dsi/vignano/miniconda3/lib/python3.9/site-packages/xgboost/sklearn.py:889: UserWarning: `eval_metric` in `fit` method is deprecated for better compatibility with scikit-learn, use `eval_metric` in constructor or`set_params` instead.\n",
      "  warnings.warn(\n",
      "/home/dsi/vignano/miniconda3/lib/python3.9/site-packages/xgboost/sklearn.py:889: UserWarning: `early_stopping_rounds` in `fit` method is deprecated for better compatibility with scikit-learn, use `early_stopping_rounds` in constructor or`set_params` instead.\n",
      "  warnings.warn(\n"
     ]
    },
    {
     "name": "stdout",
     "output_type": "stream",
     "text": [
      "Accuracy on test set: 99.85%\n",
      "AUC on test set: 1.00\n",
      "F1 score on test set: 1.00\n"
     ]
    },
    {
     "name": "stderr",
     "output_type": "stream",
     "text": [
      "100%|█████████████████████████████████████████████████████████████████████████████████████████████████████████████████████████████████████████████████████████████████| 134/134 [00:03<00:00, 38.20it/s]\n",
      "100%|██████████████████████████████████████████████████████████████████████████████████████████████████████████████████████████████████████████████████████████████████| 29/29 [00:00<00:00, 132.45it/s]\n"
     ]
    },
    {
     "name": "stdout",
     "output_type": "stream",
     "text": [
      "Epoch 1/1000, Loss: 68.29654389619827, Accuracy on validation set: 75.27%, Validation Loss: 0.8174\n"
     ]
    },
    {
     "name": "stderr",
     "output_type": "stream",
     "text": [
      "100%|█████████████████████████████████████████████████████████████████████████████████████████████████████████████████████████████████████████████████████████████████| 134/134 [00:03<00:00, 38.35it/s]\n",
      "100%|██████████████████████████████████████████████████████████████████████████████████████████████████████████████████████████████████████████████████████████████████| 29/29 [00:00<00:00, 133.33it/s]\n"
     ]
    },
    {
     "name": "stdout",
     "output_type": "stream",
     "text": [
      "Epoch 2/1000, Loss: 37.624651342630386, Accuracy on validation set: 58.90%, Validation Loss: 1.6678\n"
     ]
    },
    {
     "name": "stderr",
     "output_type": "stream",
     "text": [
      "100%|█████████████████████████████████████████████████████████████████████████████████████████████████████████████████████████████████████████████████████████████████| 134/134 [00:03<00:00, 38.46it/s]\n",
      "100%|██████████████████████████████████████████████████████████████████████████████████████████████████████████████████████████████████████████████████████████████████| 29/29 [00:00<00:00, 133.07it/s]\n"
     ]
    },
    {
     "name": "stdout",
     "output_type": "stream",
     "text": [
      "Epoch 3/1000, Loss: 21.687799606472254, Accuracy on validation set: 89.41%, Validation Loss: 0.2431\n"
     ]
    },
    {
     "name": "stderr",
     "output_type": "stream",
     "text": [
      "100%|█████████████████████████████████████████████████████████████████████████████████████████████████████████████████████████████████████████████████████████████████| 134/134 [00:03<00:00, 38.03it/s]\n",
      "100%|██████████████████████████████████████████████████████████████████████████████████████████████████████████████████████████████████████████████████████████████████| 29/29 [00:00<00:00, 131.62it/s]\n"
     ]
    },
    {
     "name": "stdout",
     "output_type": "stream",
     "text": [
      "Epoch 4/1000, Loss: 12.490374660119414, Accuracy on validation set: 94.92%, Validation Loss: 0.1711\n"
     ]
    },
    {
     "name": "stderr",
     "output_type": "stream",
     "text": [
      "100%|█████████████████████████████████████████████████████████████████████████████████████████████████████████████████████████████████████████████████████████████████| 134/134 [00:03<00:00, 37.89it/s]\n",
      "100%|██████████████████████████████████████████████████████████████████████████████████████████████████████████████████████████████████████████████████████████████████| 29/29 [00:00<00:00, 132.50it/s]\n"
     ]
    },
    {
     "name": "stdout",
     "output_type": "stream",
     "text": [
      "Epoch 5/1000, Loss: 11.836481196805835, Accuracy on validation set: 95.47%, Validation Loss: 0.1227\n"
     ]
    },
    {
     "name": "stderr",
     "output_type": "stream",
     "text": [
      "100%|█████████████████████████████████████████████████████████████████████████████████████████████████████████████████████████████████████████████████████████████████| 134/134 [00:03<00:00, 37.55it/s]\n",
      "100%|██████████████████████████████████████████████████████████████████████████████████████████████████████████████████████████████████████████████████████████████████| 29/29 [00:00<00:00, 131.59it/s]\n"
     ]
    },
    {
     "name": "stdout",
     "output_type": "stream",
     "text": [
      "Epoch 6/1000, Loss: 7.565588884986937, Accuracy on validation set: 96.12%, Validation Loss: 0.1012\n"
     ]
    },
    {
     "name": "stderr",
     "output_type": "stream",
     "text": [
      "100%|█████████████████████████████████████████████████████████████████████████████████████████████████████████████████████████████████████████████████████████████████| 134/134 [00:03<00:00, 37.82it/s]\n",
      "100%|██████████████████████████████████████████████████████████████████████████████████████████████████████████████████████████████████████████████████████████████████| 29/29 [00:00<00:00, 133.70it/s]\n"
     ]
    },
    {
     "name": "stdout",
     "output_type": "stream",
     "text": [
      "Epoch 7/1000, Loss: 8.55267837131396, Accuracy on validation set: 98.42%, Validation Loss: 0.0404\n"
     ]
    },
    {
     "name": "stderr",
     "output_type": "stream",
     "text": [
      "100%|█████████████████████████████████████████████████████████████████████████████████████████████████████████████████████████████████████████████████████████████████| 134/134 [00:03<00:00, 37.36it/s]\n",
      "100%|██████████████████████████████████████████████████████████████████████████████████████████████████████████████████████████████████████████████████████████████████| 29/29 [00:00<00:00, 127.91it/s]\n"
     ]
    },
    {
     "name": "stdout",
     "output_type": "stream",
     "text": [
      "Epoch 8/1000, Loss: 5.160457955906168, Accuracy on validation set: 98.85%, Validation Loss: 0.0361\n"
     ]
    },
    {
     "name": "stderr",
     "output_type": "stream",
     "text": [
      "100%|█████████████████████████████████████████████████████████████████████████████████████████████████████████████████████████████████████████████████████████████████| 134/134 [00:03<00:00, 37.19it/s]\n",
      "100%|██████████████████████████████████████████████████████████████████████████████████████████████████████████████████████████████████████████████████████████████████| 29/29 [00:00<00:00, 125.52it/s]\n"
     ]
    },
    {
     "name": "stdout",
     "output_type": "stream",
     "text": [
      "Epoch 9/1000, Loss: 6.152836945606396, Accuracy on validation set: 98.47%, Validation Loss: 0.0414\n"
     ]
    },
    {
     "name": "stderr",
     "output_type": "stream",
     "text": [
      "100%|█████████████████████████████████████████████████████████████████████████████████████████████████████████████████████████████████████████████████████████████████| 134/134 [00:03<00:00, 37.32it/s]\n",
      "100%|██████████████████████████████████████████████████████████████████████████████████████████████████████████████████████████████████████████████████████████████████| 29/29 [00:00<00:00, 129.31it/s]\n"
     ]
    },
    {
     "name": "stdout",
     "output_type": "stream",
     "text": [
      "Epoch 10/1000, Loss: 4.848582853213884, Accuracy on validation set: 96.94%, Validation Loss: 0.0879\n"
     ]
    },
    {
     "name": "stderr",
     "output_type": "stream",
     "text": [
      "100%|█████████████████████████████████████████████████████████████████████████████████████████████████████████████████████████████████████████████████████████████████| 134/134 [00:03<00:00, 37.39it/s]\n",
      "100%|██████████████████████████████████████████████████████████████████████████████████████████████████████████████████████████████████████████████████████████████████| 29/29 [00:00<00:00, 132.29it/s]\n"
     ]
    },
    {
     "name": "stdout",
     "output_type": "stream",
     "text": [
      "Epoch 11/1000, Loss: 7.118586616357788, Accuracy on validation set: 99.29%, Validation Loss: 0.0280\n"
     ]
    },
    {
     "name": "stderr",
     "output_type": "stream",
     "text": [
      "100%|█████████████████████████████████████████████████████████████████████████████████████████████████████████████████████████████████████████████████████████████████| 134/134 [00:03<00:00, 37.82it/s]\n",
      "100%|██████████████████████████████████████████████████████████████████████████████████████████████████████████████████████████████████████████████████████████████████| 29/29 [00:00<00:00, 133.33it/s]\n"
     ]
    },
    {
     "name": "stdout",
     "output_type": "stream",
     "text": [
      "Epoch 12/1000, Loss: 2.132136695407098, Accuracy on validation set: 98.09%, Validation Loss: 0.0337\n"
     ]
    },
    {
     "name": "stderr",
     "output_type": "stream",
     "text": [
      "100%|█████████████████████████████████████████████████████████████████████████████████████████████████████████████████████████████████████████████████████████████████| 134/134 [00:03<00:00, 37.36it/s]\n",
      "100%|██████████████████████████████████████████████████████████████████████████████████████████████████████████████████████████████████████████████████████████████████| 29/29 [00:00<00:00, 129.48it/s]\n"
     ]
    },
    {
     "name": "stdout",
     "output_type": "stream",
     "text": [
      "Epoch 13/1000, Loss: 2.5513670586806256, Accuracy on validation set: 98.64%, Validation Loss: 0.0346\n"
     ]
    },
    {
     "name": "stderr",
     "output_type": "stream",
     "text": [
      "100%|█████████████████████████████████████████████████████████████████████████████████████████████████████████████████████████████████████████████████████████████████| 134/134 [00:03<00:00, 37.44it/s]\n",
      "100%|██████████████████████████████████████████████████████████████████████████████████████████████████████████████████████████████████████████████████████████████████| 29/29 [00:00<00:00, 130.07it/s]\n"
     ]
    },
    {
     "name": "stdout",
     "output_type": "stream",
     "text": [
      "Epoch 14/1000, Loss: 4.254452508990653, Accuracy on validation set: 99.13%, Validation Loss: 0.0217\n"
     ]
    },
    {
     "name": "stderr",
     "output_type": "stream",
     "text": [
      "100%|█████████████████████████████████████████████████████████████████████████████████████████████████████████████████████████████████████████████████████████████████| 134/134 [00:03<00:00, 36.51it/s]\n",
      "100%|██████████████████████████████████████████████████████████████████████████████████████████████████████████████████████████████████████████████████████████████████| 29/29 [00:00<00:00, 123.50it/s]\n"
     ]
    },
    {
     "name": "stdout",
     "output_type": "stream",
     "text": [
      "Epoch 15/1000, Loss: 4.411406021157745, Accuracy on validation set: 97.76%, Validation Loss: 0.0657\n"
     ]
    },
    {
     "name": "stderr",
     "output_type": "stream",
     "text": [
      "100%|█████████████████████████████████████████████████████████████████████████████████████████████████████████████████████████████████████████████████████████████████| 134/134 [00:03<00:00, 36.13it/s]\n",
      "100%|██████████████████████████████████████████████████████████████████████████████████████████████████████████████████████████████████████████████████████████████████| 29/29 [00:00<00:00, 123.96it/s]\n"
     ]
    },
    {
     "name": "stdout",
     "output_type": "stream",
     "text": [
      "Epoch 16/1000, Loss: 3.166636860521976, Accuracy on validation set: 98.74%, Validation Loss: 0.0400\n"
     ]
    },
    {
     "name": "stderr",
     "output_type": "stream",
     "text": [
      "100%|█████████████████████████████████████████████████████████████████████████████████████████████████████████████████████████████████████████████████████████████████| 134/134 [00:03<00:00, 34.75it/s]\n",
      "100%|██████████████████████████████████████████████████████████████████████████████████████████████████████████████████████████████████████████████████████████████████| 29/29 [00:00<00:00, 122.36it/s]\n"
     ]
    },
    {
     "name": "stdout",
     "output_type": "stream",
     "text": [
      "Epoch 17/1000, Loss: 2.655041617748793, Accuracy on validation set: 99.89%, Validation Loss: 0.0063\n"
     ]
    },
    {
     "name": "stderr",
     "output_type": "stream",
     "text": [
      "100%|█████████████████████████████████████████████████████████████████████████████████████████████████████████████████████████████████████████████████████████████████| 134/134 [00:03<00:00, 36.47it/s]\n",
      "100%|██████████████████████████████████████████████████████████████████████████████████████████████████████████████████████████████████████████████████████████████████| 29/29 [00:00<00:00, 129.59it/s]\n"
     ]
    },
    {
     "name": "stdout",
     "output_type": "stream",
     "text": [
      "Epoch 18/1000, Loss: 4.036979474476539, Accuracy on validation set: 97.54%, Validation Loss: 0.0679\n"
     ]
    },
    {
     "name": "stderr",
     "output_type": "stream",
     "text": [
      "100%|█████████████████████████████████████████████████████████████████████████████████████████████████████████████████████████████████████████████████████████████████| 134/134 [00:03<00:00, 37.38it/s]\n",
      "100%|██████████████████████████████████████████████████████████████████████████████████████████████████████████████████████████████████████████████████████████████████| 29/29 [00:00<00:00, 127.81it/s]\n"
     ]
    },
    {
     "name": "stdout",
     "output_type": "stream",
     "text": [
      "Epoch 19/1000, Loss: 2.620937109226361, Accuracy on validation set: 97.93%, Validation Loss: 0.0545\n"
     ]
    },
    {
     "name": "stderr",
     "output_type": "stream",
     "text": [
      "100%|█████████████████████████████████████████████████████████████████████████████████████████████████████████████████████████████████████████████████████████████████| 134/134 [00:03<00:00, 37.51it/s]\n",
      "100%|██████████████████████████████████████████████████████████████████████████████████████████████████████████████████████████████████████████████████████████████████| 29/29 [00:00<00:00, 131.18it/s]\n"
     ]
    },
    {
     "name": "stdout",
     "output_type": "stream",
     "text": [
      "Epoch 20/1000, Loss: 1.6176288619753905, Accuracy on validation set: 99.84%, Validation Loss: 0.0050\n"
     ]
    },
    {
     "name": "stderr",
     "output_type": "stream",
     "text": [
      "100%|█████████████████████████████████████████████████████████████████████████████████████████████████████████████████████████████████████████████████████████████████| 134/134 [00:03<00:00, 37.83it/s]\n",
      "100%|██████████████████████████████████████████████████████████████████████████████████████████████████████████████████████████████████████████████████████████████████| 29/29 [00:00<00:00, 129.68it/s]\n"
     ]
    },
    {
     "name": "stdout",
     "output_type": "stream",
     "text": [
      "Epoch 21/1000, Loss: 2.185348345010425, Accuracy on validation set: 99.45%, Validation Loss: 0.0222\n"
     ]
    },
    {
     "name": "stderr",
     "output_type": "stream",
     "text": [
      "100%|█████████████████████████████████████████████████████████████████████████████████████████████████████████████████████████████████████████████████████████████████| 134/134 [00:03<00:00, 36.81it/s]\n",
      "100%|██████████████████████████████████████████████████████████████████████████████████████████████████████████████████████████████████████████████████████████████████| 29/29 [00:00<00:00, 126.41it/s]\n"
     ]
    },
    {
     "name": "stdout",
     "output_type": "stream",
     "text": [
      "Epoch 22/1000, Loss: 4.044178389463923, Accuracy on validation set: 98.42%, Validation Loss: 0.0524\n"
     ]
    },
    {
     "name": "stderr",
     "output_type": "stream",
     "text": [
      "100%|█████████████████████████████████████████████████████████████████████████████████████████████████████████████████████████████████████████████████████████████████| 134/134 [00:03<00:00, 36.08it/s]\n",
      "100%|██████████████████████████████████████████████████████████████████████████████████████████████████████████████████████████████████████████████████████████████████| 29/29 [00:00<00:00, 122.95it/s]\n"
     ]
    },
    {
     "name": "stdout",
     "output_type": "stream",
     "text": [
      "Epoch 23/1000, Loss: 3.15053934417665, Accuracy on validation set: 98.31%, Validation Loss: 0.0476\n"
     ]
    },
    {
     "name": "stderr",
     "output_type": "stream",
     "text": [
      "100%|█████████████████████████████████████████████████████████████████████████████████████████████████████████████████████████████████████████████████████████████████| 134/134 [00:03<00:00, 34.73it/s]\n",
      "100%|██████████████████████████████████████████████████████████████████████████████████████████████████████████████████████████████████████████████████████████████████| 29/29 [00:00<00:00, 121.51it/s]\n"
     ]
    },
    {
     "name": "stdout",
     "output_type": "stream",
     "text": [
      "Epoch 24/1000, Loss: 2.6211996532219928, Accuracy on validation set: 99.51%, Validation Loss: 0.0234\n"
     ]
    },
    {
     "name": "stderr",
     "output_type": "stream",
     "text": [
      "100%|█████████████████████████████████████████████████████████████████████████████████████████████████████████████████████████████████████████████████████████████████| 134/134 [00:03<00:00, 36.88it/s]\n",
      "100%|██████████████████████████████████████████████████████████████████████████████████████████████████████████████████████████████████████████████████████████████████| 29/29 [00:00<00:00, 130.44it/s]\n"
     ]
    },
    {
     "name": "stdout",
     "output_type": "stream",
     "text": [
      "Epoch 25/1000, Loss: 3.404877425637096, Accuracy on validation set: 99.62%, Validation Loss: 0.0115\n",
      "Early stopping after 25 epochs.\n"
     ]
    },
    {
     "name": "stderr",
     "output_type": "stream",
     "text": [
      "100%|██████████████████████████████████████████████████████████████████████████████████████████████████████████████████████████████████████████████████████████████████| 29/29 [00:00<00:00, 130.93it/s]\n"
     ]
    },
    {
     "name": "stdout",
     "output_type": "stream",
     "text": [
      "Accuracy on test set: 99.62%\n",
      "AUC on test set: 1.00\n",
      "F1 score on test set: 1.00\n"
     ]
    },
    {
     "name": "stderr",
     "output_type": "stream",
     "text": [
      "/home/dsi/vignano/miniconda3/lib/python3.9/site-packages/pytorch_tabnet/abstract_model.py:82: UserWarning: Device used : cuda\n",
      "  warnings.warn(f\"Device used : {self.device}\")\n"
     ]
    },
    {
     "name": "stdout",
     "output_type": "stream",
     "text": [
      "epoch 0  | loss: 0.8425  | val_0_accuracy: 0.56332 |  0:00:00s\n",
      "epoch 1  | loss: 0.67617 | val_0_accuracy: 0.58352 |  0:00:00s\n",
      "epoch 2  | loss: 0.64371 | val_0_accuracy: 0.55022 |  0:00:01s\n",
      "epoch 3  | loss: 0.61214 | val_0_accuracy: 0.59116 |  0:00:01s\n",
      "epoch 4  | loss: 0.58589 | val_0_accuracy: 0.59007 |  0:00:02s\n",
      "epoch 5  | loss: 0.56193 | val_0_accuracy: 0.6179  |  0:00:02s\n",
      "epoch 6  | loss: 0.5367  | val_0_accuracy: 0.62063 |  0:00:03s\n",
      "epoch 7  | loss: 0.50105 | val_0_accuracy: 0.66485 |  0:00:03s\n",
      "epoch 8  | loss: 0.45846 | val_0_accuracy: 0.65884 |  0:00:04s\n",
      "epoch 9  | loss: 0.40144 | val_0_accuracy: 0.64138 |  0:00:04s\n",
      "epoch 10 | loss: 0.34521 | val_0_accuracy: 0.68504 |  0:00:05s\n",
      "epoch 11 | loss: 0.27015 | val_0_accuracy: 0.7107  |  0:00:05s\n",
      "epoch 12 | loss: 0.22235 | val_0_accuracy: 0.73199 |  0:00:05s\n",
      "epoch 13 | loss: 0.18062 | val_0_accuracy: 0.76638 |  0:00:06s\n",
      "epoch 14 | loss: 0.13793 | val_0_accuracy: 0.77074 |  0:00:06s\n",
      "epoch 15 | loss: 0.1261  | val_0_accuracy: 0.76801 |  0:00:07s\n",
      "epoch 16 | loss: 0.10085 | val_0_accuracy: 0.78384 |  0:00:07s\n",
      "epoch 17 | loss: 0.08082 | val_0_accuracy: 0.8286  |  0:00:08s\n",
      "epoch 18 | loss: 0.08472 | val_0_accuracy: 0.83624 |  0:00:08s\n",
      "epoch 19 | loss: 0.06897 | val_0_accuracy: 0.87118 |  0:00:09s\n",
      "epoch 20 | loss: 0.05846 | val_0_accuracy: 0.85862 |  0:00:09s\n",
      "epoch 21 | loss: 0.04288 | val_0_accuracy: 0.87991 |  0:00:10s\n",
      "epoch 22 | loss: 0.04404 | val_0_accuracy: 0.8952  |  0:00:10s\n",
      "epoch 23 | loss: 0.03855 | val_0_accuracy: 0.9143  |  0:00:10s\n",
      "epoch 24 | loss: 0.03924 | val_0_accuracy: 0.93068 |  0:00:11s\n",
      "epoch 25 | loss: 0.03846 | val_0_accuracy: 0.92686 |  0:00:11s\n",
      "epoch 26 | loss: 0.03442 | val_0_accuracy: 0.93122 |  0:00:12s\n",
      "epoch 27 | loss: 0.02887 | val_0_accuracy: 0.92358 |  0:00:12s\n",
      "epoch 28 | loss: 0.02525 | val_0_accuracy: 0.9405  |  0:00:13s\n",
      "epoch 29 | loss: 0.01911 | val_0_accuracy: 0.95688 |  0:00:13s\n",
      "epoch 30 | loss: 0.01934 | val_0_accuracy: 0.96998 |  0:00:14s\n",
      "epoch 31 | loss: 0.01938 | val_0_accuracy: 0.96998 |  0:00:14s\n",
      "epoch 32 | loss: 0.0214  | val_0_accuracy: 0.96397 |  0:00:14s\n",
      "epoch 33 | loss: 0.02476 | val_0_accuracy: 0.98526 |  0:00:15s\n",
      "epoch 34 | loss: 0.01745 | val_0_accuracy: 0.9738  |  0:00:15s\n",
      "epoch 35 | loss: 0.04001 | val_0_accuracy: 0.9798  |  0:00:16s\n",
      "epoch 36 | loss: 0.03271 | val_0_accuracy: 0.97871 |  0:00:16s\n",
      "epoch 37 | loss: 0.02321 | val_0_accuracy: 0.97489 |  0:00:17s\n",
      "epoch 38 | loss: 0.02908 | val_0_accuracy: 0.97434 |  0:00:17s\n",
      "\n",
      "Early stopping occurred at epoch 38 with best_epoch = 33 and best_val_0_accuracy = 0.98526\n"
     ]
    },
    {
     "name": "stderr",
     "output_type": "stream",
     "text": [
      "/home/dsi/vignano/miniconda3/lib/python3.9/site-packages/pytorch_tabnet/callbacks.py:172: UserWarning: Best weights from best epoch are automatically used!\n",
      "  warnings.warn(wrn_msg)\n"
     ]
    },
    {
     "name": "stdout",
     "output_type": "stream",
     "text": [
      "Accuracy on test set: 98.09%\n",
      "AUC on test set: 1.00\n",
      "F1 score on test set: 0.98\n",
      "[0]\tvalidation_0-error:0.33242\n",
      "[1]\tvalidation_0-error:0.15611\n",
      "[2]\tvalidation_0-error:0.09771\n",
      "[3]\tvalidation_0-error:0.09007\n",
      "[4]\tvalidation_0-error:0.07096\n",
      "[5]\tvalidation_0-error:0.07424\n",
      "[6]\tvalidation_0-error:0.07424\n",
      "[7]\tvalidation_0-error:0.06987\n",
      "[8]\tvalidation_0-error:0.06277\n",
      "[9]\tvalidation_0-error:0.05677\n",
      "[10]\tvalidation_0-error:0.05786\n",
      "[11]\tvalidation_0-error:0.05568\n",
      "[12]\tvalidation_0-error:0.05349\n",
      "[13]\tvalidation_0-error:0.04585\n",
      "[14]\tvalidation_0-error:0.04640\n",
      "[15]\tvalidation_0-error:0.03493\n",
      "[16]\tvalidation_0-error:0.03821\n",
      "[17]\tvalidation_0-error:0.03330\n",
      "[18]\tvalidation_0-error:0.02511\n",
      "[19]\tvalidation_0-error:0.02183\n",
      "[20]\tvalidation_0-error:0.02020\n",
      "[21]\tvalidation_0-error:0.01747\n",
      "[22]\tvalidation_0-error:0.01419\n",
      "[23]\tvalidation_0-error:0.01201\n",
      "[24]\tvalidation_0-error:0.01146\n",
      "[25]\tvalidation_0-error:0.00764\n",
      "[26]\tvalidation_0-error:0.00819\n",
      "[27]\tvalidation_0-error:0.00819\n",
      "[28]\tvalidation_0-error:0.00710\n",
      "[29]\tvalidation_0-error:0.00710\n",
      "[30]\tvalidation_0-error:0.00600\n",
      "[31]\tvalidation_0-error:0.00546\n",
      "[32]\tvalidation_0-error:0.00491\n",
      "[33]\tvalidation_0-error:0.00491\n",
      "[34]\tvalidation_0-error:0.00382\n",
      "[35]\tvalidation_0-error:0.00328\n",
      "[36]\tvalidation_0-error:0.00328\n",
      "[37]\tvalidation_0-error:0.00273\n",
      "[38]\tvalidation_0-error:0.00218\n",
      "[39]\tvalidation_0-error:0.00218\n",
      "[40]\tvalidation_0-error:0.00218\n",
      "[41]\tvalidation_0-error:0.00218\n",
      "[42]\tvalidation_0-error:0.00218\n",
      "[43]\tvalidation_0-error:0.00164\n",
      "[44]\tvalidation_0-error:0.00109\n",
      "[45]\tvalidation_0-error:0.00109\n",
      "[46]\tvalidation_0-error:0.00109\n",
      "[47]\tvalidation_0-error:0.00109\n",
      "[48]\tvalidation_0-error:0.00109\n"
     ]
    },
    {
     "name": "stderr",
     "output_type": "stream",
     "text": [
      "/home/dsi/vignano/miniconda3/lib/python3.9/site-packages/xgboost/sklearn.py:889: UserWarning: `eval_metric` in `fit` method is deprecated for better compatibility with scikit-learn, use `eval_metric` in constructor or`set_params` instead.\n",
      "  warnings.warn(\n",
      "/home/dsi/vignano/miniconda3/lib/python3.9/site-packages/xgboost/sklearn.py:889: UserWarning: `early_stopping_rounds` in `fit` method is deprecated for better compatibility with scikit-learn, use `early_stopping_rounds` in constructor or`set_params` instead.\n",
      "  warnings.warn(\n"
     ]
    },
    {
     "name": "stdout",
     "output_type": "stream",
     "text": [
      "Accuracy on test set: 99.95%\n",
      "AUC on test set: 1.00\n",
      "F1 score on test set: 1.00\n"
     ]
    },
    {
     "name": "stderr",
     "output_type": "stream",
     "text": [
      "100%|███████████████████████████████████████████████████████████████████████████████████████████████████████████████████████████████████████████████████████████████████| 67/67 [00:01<00:00, 37.75it/s]\n",
      "100%|██████████████████████████████████████████████████████████████████████████████████████████████████████████████████████████████████████████████████████████████████| 15/15 [00:00<00:00, 108.92it/s]\n"
     ]
    },
    {
     "name": "stdout",
     "output_type": "stream",
     "text": [
      "Epoch 1/1000, Loss: 40.75807327032089, Accuracy on validation set: 71.40%, Validation Loss: 0.5174\n"
     ]
    },
    {
     "name": "stderr",
     "output_type": "stream",
     "text": [
      "100%|███████████████████████████████████████████████████████████████████████████████████████████████████████████████████████████████████████████████████████████████████| 67/67 [00:01<00:00, 37.77it/s]\n",
      "100%|██████████████████████████████████████████████████████████████████████████████████████████████████████████████████████████████████████████████████████████████████| 15/15 [00:00<00:00, 107.28it/s]\n"
     ]
    },
    {
     "name": "stdout",
     "output_type": "stream",
     "text": [
      "Epoch 2/1000, Loss: 31.312828719615936, Accuracy on validation set: 77.62%, Validation Loss: 0.4619\n"
     ]
    },
    {
     "name": "stderr",
     "output_type": "stream",
     "text": [
      "100%|███████████████████████████████████████████████████████████████████████████████████████████████████████████████████████████████████████████████████████████████████| 67/67 [00:01<00:00, 37.70it/s]\n",
      "100%|██████████████████████████████████████████████████████████████████████████████████████████████████████████████████████████████████████████████████████████████████| 15/15 [00:00<00:00, 108.03it/s]\n"
     ]
    },
    {
     "name": "stdout",
     "output_type": "stream",
     "text": [
      "Epoch 3/1000, Loss: 20.87518683075905, Accuracy on validation set: 75.11%, Validation Loss: 0.4866\n"
     ]
    },
    {
     "name": "stderr",
     "output_type": "stream",
     "text": [
      "100%|███████████████████████████████████████████████████████████████████████████████████████████████████████████████████████████████████████████████████████████████████| 67/67 [00:01<00:00, 37.26it/s]\n",
      "100%|██████████████████████████████████████████████████████████████████████████████████████████████████████████████████████████████████████████████████████████████████| 15/15 [00:00<00:00, 108.66it/s]\n"
     ]
    },
    {
     "name": "stdout",
     "output_type": "stream",
     "text": [
      "Epoch 4/1000, Loss: 15.82527431100607, Accuracy on validation set: 84.83%, Validation Loss: 0.3990\n"
     ]
    },
    {
     "name": "stderr",
     "output_type": "stream",
     "text": [
      "100%|███████████████████████████████████████████████████████████████████████████████████████████████████████████████████████████████████████████████████████████████████| 67/67 [00:01<00:00, 37.84it/s]\n",
      "100%|██████████████████████████████████████████████████████████████████████████████████████████████████████████████████████████████████████████████████████████████████| 15/15 [00:00<00:00, 111.68it/s]\n"
     ]
    },
    {
     "name": "stdout",
     "output_type": "stream",
     "text": [
      "Epoch 5/1000, Loss: 13.403489150106907, Accuracy on validation set: 81.88%, Validation Loss: 0.3522\n"
     ]
    },
    {
     "name": "stderr",
     "output_type": "stream",
     "text": [
      "100%|███████████████████████████████████████████████████████████████████████████████████████████████████████████████████████████████████████████████████████████████████| 67/67 [00:01<00:00, 37.95it/s]\n",
      "100%|██████████████████████████████████████████████████████████████████████████████████████████████████████████████████████████████████████████████████████████████████| 15/15 [00:00<00:00, 113.21it/s]\n"
     ]
    },
    {
     "name": "stdout",
     "output_type": "stream",
     "text": [
      "Epoch 6/1000, Loss: 11.216220892965794, Accuracy on validation set: 93.67%, Validation Loss: 0.2094\n"
     ]
    },
    {
     "name": "stderr",
     "output_type": "stream",
     "text": [
      "100%|███████████████████████████████████████████████████████████████████████████████████████████████████████████████████████████████████████████████████████████████████| 67/67 [00:01<00:00, 37.89it/s]\n",
      "100%|██████████████████████████████████████████████████████████████████████████████████████████████████████████████████████████████████████████████████████████████████| 15/15 [00:00<00:00, 110.74it/s]\n"
     ]
    },
    {
     "name": "stdout",
     "output_type": "stream",
     "text": [
      "Epoch 7/1000, Loss: 7.680571556091309, Accuracy on validation set: 83.52%, Validation Loss: 0.4823\n"
     ]
    },
    {
     "name": "stderr",
     "output_type": "stream",
     "text": [
      "100%|███████████████████████████████████████████████████████████████████████████████████████████████████████████████████████████████████████████████████████████████████| 67/67 [00:01<00:00, 37.38it/s]\n",
      "100%|██████████████████████████████████████████████████████████████████████████████████████████████████████████████████████████████████████████████████████████████████| 15/15 [00:00<00:00, 111.30it/s]\n"
     ]
    },
    {
     "name": "stdout",
     "output_type": "stream",
     "text": [
      "Epoch 8/1000, Loss: 8.095575954765081, Accuracy on validation set: 92.14%, Validation Loss: 0.2137\n"
     ]
    },
    {
     "name": "stderr",
     "output_type": "stream",
     "text": [
      "100%|███████████████████████████████████████████████████████████████████████████████████████████████████████████████████████████████████████████████████████████████████| 67/67 [00:01<00:00, 37.51it/s]\n",
      "100%|██████████████████████████████████████████████████████████████████████████████████████████████████████████████████████████████████████████████████████████████████| 15/15 [00:00<00:00, 109.22it/s]\n"
     ]
    },
    {
     "name": "stdout",
     "output_type": "stream",
     "text": [
      "Epoch 9/1000, Loss: 5.9879280952736735, Accuracy on validation set: 93.23%, Validation Loss: 0.1605\n"
     ]
    },
    {
     "name": "stderr",
     "output_type": "stream",
     "text": [
      "100%|███████████████████████████████████████████████████████████████████████████████████████████████████████████████████████████████████████████████████████████████████| 67/67 [00:01<00:00, 36.83it/s]\n",
      "100%|██████████████████████████████████████████████████████████████████████████████████████████████████████████████████████████████████████████████████████████████████| 15/15 [00:00<00:00, 109.15it/s]\n"
     ]
    },
    {
     "name": "stdout",
     "output_type": "stream",
     "text": [
      "Epoch 10/1000, Loss: 4.678970763925463, Accuracy on validation set: 89.74%, Validation Loss: 0.2646\n"
     ]
    },
    {
     "name": "stderr",
     "output_type": "stream",
     "text": [
      "100%|███████████████████████████████████████████████████████████████████████████████████████████████████████████████████████████████████████████████████████████████████| 67/67 [00:01<00:00, 37.13it/s]\n",
      "100%|██████████████████████████████████████████████████████████████████████████████████████████████████████████████████████████████████████████████████████████████████| 15/15 [00:00<00:00, 110.86it/s]\n"
     ]
    },
    {
     "name": "stdout",
     "output_type": "stream",
     "text": [
      "Epoch 11/1000, Loss: 4.700681447982788, Accuracy on validation set: 93.34%, Validation Loss: 0.1878\n"
     ]
    },
    {
     "name": "stderr",
     "output_type": "stream",
     "text": [
      "100%|███████████████████████████████████████████████████████████████████████████████████████████████████████████████████████████████████████████████████████████████████| 67/67 [00:01<00:00, 38.30it/s]\n",
      "100%|██████████████████████████████████████████████████████████████████████████████████████████████████████████████████████████████████████████████████████████████████| 15/15 [00:00<00:00, 112.20it/s]\n"
     ]
    },
    {
     "name": "stdout",
     "output_type": "stream",
     "text": [
      "Epoch 12/1000, Loss: 5.046917576808482, Accuracy on validation set: 94.87%, Validation Loss: 0.1530\n"
     ]
    },
    {
     "name": "stderr",
     "output_type": "stream",
     "text": [
      "100%|███████████████████████████████████████████████████████████████████████████████████████████████████████████████████████████████████████████████████████████████████| 67/67 [00:01<00:00, 37.86it/s]\n",
      "100%|██████████████████████████████████████████████████████████████████████████████████████████████████████████████████████████████████████████████████████████████████| 15/15 [00:00<00:00, 110.95it/s]\n"
     ]
    },
    {
     "name": "stdout",
     "output_type": "stream",
     "text": [
      "Epoch 13/1000, Loss: 3.58733079128433, Accuracy on validation set: 96.29%, Validation Loss: 0.1299\n"
     ]
    },
    {
     "name": "stderr",
     "output_type": "stream",
     "text": [
      "100%|███████████████████████████████████████████████████████████████████████████████████████████████████████████████████████████████████████████████████████████████████| 67/67 [00:01<00:00, 37.52it/s]\n",
      "100%|██████████████████████████████████████████████████████████████████████████████████████████████████████████████████████████████████████████████████████████████████| 15/15 [00:00<00:00, 110.23it/s]\n"
     ]
    },
    {
     "name": "stdout",
     "output_type": "stream",
     "text": [
      "Epoch 14/1000, Loss: 2.6274143212940544, Accuracy on validation set: 98.36%, Validation Loss: 0.0405\n"
     ]
    },
    {
     "name": "stderr",
     "output_type": "stream",
     "text": [
      "100%|███████████████████████████████████████████████████████████████████████████████████████████████████████████████████████████████████████████████████████████████████| 67/67 [00:01<00:00, 37.41it/s]\n",
      "100%|██████████████████████████████████████████████████████████████████████████████████████████████████████████████████████████████████████████████████████████████████| 15/15 [00:00<00:00, 111.43it/s]\n"
     ]
    },
    {
     "name": "stdout",
     "output_type": "stream",
     "text": [
      "Epoch 15/1000, Loss: 2.344132516067475, Accuracy on validation set: 98.91%, Validation Loss: 0.0454\n"
     ]
    },
    {
     "name": "stderr",
     "output_type": "stream",
     "text": [
      "100%|███████████████████████████████████████████████████████████████████████████████████████████████████████████████████████████████████████████████████████████████████| 67/67 [00:01<00:00, 37.32it/s]\n",
      "100%|██████████████████████████████████████████████████████████████████████████████████████████████████████████████████████████████████████████████████████████████████| 15/15 [00:00<00:00, 110.18it/s]\n"
     ]
    },
    {
     "name": "stdout",
     "output_type": "stream",
     "text": [
      "Epoch 16/1000, Loss: 2.5465229644905776, Accuracy on validation set: 95.63%, Validation Loss: 0.2084\n"
     ]
    },
    {
     "name": "stderr",
     "output_type": "stream",
     "text": [
      "100%|███████████████████████████████████████████████████████████████████████████████████████████████████████████████████████████████████████████████████████████████████| 67/67 [00:01<00:00, 37.22it/s]\n",
      "100%|██████████████████████████████████████████████████████████████████████████████████████████████████████████████████████████████████████████████████████████████████| 15/15 [00:00<00:00, 109.86it/s]\n"
     ]
    },
    {
     "name": "stdout",
     "output_type": "stream",
     "text": [
      "Epoch 17/1000, Loss: 4.882076067384332, Accuracy on validation set: 99.24%, Validation Loss: 0.0351\n"
     ]
    },
    {
     "name": "stderr",
     "output_type": "stream",
     "text": [
      "100%|███████████████████████████████████████████████████████████████████████████████████████████████████████████████████████████████████████████████████████████████████| 67/67 [00:01<00:00, 37.44it/s]\n",
      "100%|██████████████████████████████████████████████████████████████████████████████████████████████████████████████████████████████████████████████████████████████████| 15/15 [00:00<00:00, 109.75it/s]\n"
     ]
    },
    {
     "name": "stdout",
     "output_type": "stream",
     "text": [
      "Epoch 18/1000, Loss: 1.882259800331667, Accuracy on validation set: 99.13%, Validation Loss: 0.0241\n"
     ]
    },
    {
     "name": "stderr",
     "output_type": "stream",
     "text": [
      "100%|███████████████████████████████████████████████████████████████████████████████████████████████████████████████████████████████████████████████████████████████████| 67/67 [00:01<00:00, 36.45it/s]\n",
      "100%|██████████████████████████████████████████████████████████████████████████████████████████████████████████████████████████████████████████████████████████████████| 15/15 [00:00<00:00, 109.31it/s]\n"
     ]
    },
    {
     "name": "stdout",
     "output_type": "stream",
     "text": [
      "Epoch 19/1000, Loss: 1.6709878036053851, Accuracy on validation set: 98.69%, Validation Loss: 0.0362\n"
     ]
    },
    {
     "name": "stderr",
     "output_type": "stream",
     "text": [
      "100%|███████████████████████████████████████████████████████████████████████████████████████████████████████████████████████████████████████████████████████████████████| 67/67 [00:01<00:00, 36.82it/s]\n",
      "100%|██████████████████████████████████████████████████████████████████████████████████████████████████████████████████████████████████████████████████████████████████| 15/15 [00:00<00:00, 104.04it/s]\n"
     ]
    },
    {
     "name": "stdout",
     "output_type": "stream",
     "text": [
      "Epoch 20/1000, Loss: 2.357150691910647, Accuracy on validation set: 99.34%, Validation Loss: 0.0188\n"
     ]
    },
    {
     "name": "stderr",
     "output_type": "stream",
     "text": [
      "100%|███████████████████████████████████████████████████████████████████████████████████████████████████████████████████████████████████████████████████████████████████| 67/67 [00:01<00:00, 35.29it/s]\n",
      "100%|██████████████████████████████████████████████████████████████████████████████████████████████████████████████████████████████████████████████████████████████████| 15/15 [00:00<00:00, 108.30it/s]\n"
     ]
    },
    {
     "name": "stdout",
     "output_type": "stream",
     "text": [
      "Epoch 21/1000, Loss: 2.8989166996907443, Accuracy on validation set: 99.78%, Validation Loss: 0.0115\n"
     ]
    },
    {
     "name": "stderr",
     "output_type": "stream",
     "text": [
      "100%|███████████████████████████████████████████████████████████████████████████████████████████████████████████████████████████████████████████████████████████████████| 67/67 [00:01<00:00, 37.15it/s]\n",
      "100%|██████████████████████████████████████████████████████████████████████████████████████████████████████████████████████████████████████████████████████████████████| 15/15 [00:00<00:00, 108.66it/s]\n"
     ]
    },
    {
     "name": "stdout",
     "output_type": "stream",
     "text": [
      "Epoch 22/1000, Loss: 0.7133094550808892, Accuracy on validation set: 99.02%, Validation Loss: 0.0408\n"
     ]
    },
    {
     "name": "stderr",
     "output_type": "stream",
     "text": [
      "100%|███████████████████████████████████████████████████████████████████████████████████████████████████████████████████████████████████████████████████████████████████| 67/67 [00:01<00:00, 36.67it/s]\n",
      "100%|██████████████████████████████████████████████████████████████████████████████████████████████████████████████████████████████████████████████████████████████████| 15/15 [00:00<00:00, 104.68it/s]\n"
     ]
    },
    {
     "name": "stdout",
     "output_type": "stream",
     "text": [
      "Epoch 23/1000, Loss: 3.5301762068411335, Accuracy on validation set: 93.23%, Validation Loss: 0.1571\n"
     ]
    },
    {
     "name": "stderr",
     "output_type": "stream",
     "text": [
      "100%|███████████████████████████████████████████████████████████████████████████████████████████████████████████████████████████████████████████████████████████████████| 67/67 [00:01<00:00, 37.12it/s]\n",
      "100%|██████████████████████████████████████████████████████████████████████████████████████████████████████████████████████████████████████████████████████████████████| 15/15 [00:00<00:00, 109.13it/s]\n"
     ]
    },
    {
     "name": "stdout",
     "output_type": "stream",
     "text": [
      "Epoch 24/1000, Loss: 3.846622389741242, Accuracy on validation set: 97.38%, Validation Loss: 0.0677\n"
     ]
    },
    {
     "name": "stderr",
     "output_type": "stream",
     "text": [
      "100%|███████████████████████████████████████████████████████████████████████████████████████████████████████████████████████████████████████████████████████████████████| 67/67 [00:01<00:00, 36.82it/s]\n",
      "100%|██████████████████████████████████████████████████████████████████████████████████████████████████████████████████████████████████████████████████████████████████| 15/15 [00:00<00:00, 109.87it/s]\n"
     ]
    },
    {
     "name": "stdout",
     "output_type": "stream",
     "text": [
      "Epoch 25/1000, Loss: 3.031125101726502, Accuracy on validation set: 99.78%, Validation Loss: 0.0153\n"
     ]
    },
    {
     "name": "stderr",
     "output_type": "stream",
     "text": [
      "100%|███████████████████████████████████████████████████████████████████████████████████████████████████████████████████████████████████████████████████████████████████| 67/67 [00:01<00:00, 37.61it/s]\n",
      "100%|██████████████████████████████████████████████████████████████████████████████████████████████████████████████████████████████████████████████████████████████████| 15/15 [00:00<00:00, 111.56it/s]\n"
     ]
    },
    {
     "name": "stdout",
     "output_type": "stream",
     "text": [
      "Epoch 26/1000, Loss: 1.2198871773580322, Accuracy on validation set: 98.25%, Validation Loss: 0.0653\n",
      "Early stopping after 26 epochs.\n"
     ]
    },
    {
     "name": "stderr",
     "output_type": "stream",
     "text": [
      "100%|██████████████████████████████████████████████████████████████████████████████████████████████████████████████████████████████████████████████████████████████████| 15/15 [00:00<00:00, 111.73it/s]\n"
     ]
    },
    {
     "name": "stdout",
     "output_type": "stream",
     "text": [
      "Accuracy on test set: 97.60%\n",
      "AUC on test set: 1.00\n",
      "F1 score on test set: 0.98\n"
     ]
    },
    {
     "name": "stderr",
     "output_type": "stream",
     "text": [
      "/home/dsi/vignano/miniconda3/lib/python3.9/site-packages/pytorch_tabnet/abstract_model.py:82: UserWarning: Device used : cuda\n",
      "  warnings.warn(f\"Device used : {self.device}\")\n"
     ]
    },
    {
     "name": "stdout",
     "output_type": "stream",
     "text": [
      "epoch 0  | loss: 0.91353 | val_0_accuracy: 0.5524  |  0:00:00s\n",
      "epoch 1  | loss: 0.76208 | val_0_accuracy: 0.5655  |  0:00:00s\n",
      "epoch 2  | loss: 0.70225 | val_0_accuracy: 0.55022 |  0:00:00s\n",
      "epoch 3  | loss: 0.6625  | val_0_accuracy: 0.54803 |  0:00:00s\n",
      "epoch 4  | loss: 0.64978 | val_0_accuracy: 0.55131 |  0:00:01s\n",
      "epoch 5  | loss: 0.63993 | val_0_accuracy: 0.55895 |  0:00:01s\n",
      "epoch 6  | loss: 0.61247 | val_0_accuracy: 0.56223 |  0:00:01s\n",
      "\n",
      "Early stopping occurred at epoch 6 with best_epoch = 1 and best_val_0_accuracy = 0.5655\n",
      "Accuracy on test set: 56.11%\n",
      "AUC on test set: 0.54\n",
      "F1 score on test set: 0.71\n"
     ]
    },
    {
     "name": "stderr",
     "output_type": "stream",
     "text": [
      "/home/dsi/vignano/miniconda3/lib/python3.9/site-packages/pytorch_tabnet/callbacks.py:172: UserWarning: Best weights from best epoch are automatically used!\n",
      "  warnings.warn(wrn_msg)\n"
     ]
    },
    {
     "name": "stdout",
     "output_type": "stream",
     "text": [
      "[0]\tvalidation_0-error:0.35153\n",
      "[1]\tvalidation_0-error:0.22926\n",
      "[2]\tvalidation_0-error:0.13537\n",
      "[3]\tvalidation_0-error:0.08843\n",
      "[4]\tvalidation_0-error:0.07860\n",
      "[5]\tvalidation_0-error:0.09607\n",
      "[6]\tvalidation_0-error:0.07969\n",
      "[7]\tvalidation_0-error:0.07096\n",
      "[8]\tvalidation_0-error:0.06987\n",
      "[9]\tvalidation_0-error:0.05786\n",
      "[10]\tvalidation_0-error:0.06004\n",
      "[11]\tvalidation_0-error:0.05240\n",
      "[12]\tvalidation_0-error:0.04258\n",
      "[13]\tvalidation_0-error:0.04039\n",
      "[14]\tvalidation_0-error:0.03821\n",
      "[15]\tvalidation_0-error:0.03493\n",
      "[16]\tvalidation_0-error:0.02729\n",
      "[17]\tvalidation_0-error:0.02948\n",
      "[18]\tvalidation_0-error:0.02948\n",
      "[19]\tvalidation_0-error:0.02729\n",
      "[20]\tvalidation_0-error:0.02074\n",
      "[21]\tvalidation_0-error:0.02293\n",
      "[22]\tvalidation_0-error:0.02293\n",
      "[23]\tvalidation_0-error:0.02402\n",
      "[24]\tvalidation_0-error:0.02402\n"
     ]
    },
    {
     "name": "stderr",
     "output_type": "stream",
     "text": [
      "/home/dsi/vignano/miniconda3/lib/python3.9/site-packages/xgboost/sklearn.py:889: UserWarning: `eval_metric` in `fit` method is deprecated for better compatibility with scikit-learn, use `eval_metric` in constructor or`set_params` instead.\n",
      "  warnings.warn(\n",
      "/home/dsi/vignano/miniconda3/lib/python3.9/site-packages/xgboost/sklearn.py:889: UserWarning: `early_stopping_rounds` in `fit` method is deprecated for better compatibility with scikit-learn, use `early_stopping_rounds` in constructor or`set_params` instead.\n",
      "  warnings.warn(\n"
     ]
    },
    {
     "name": "stdout",
     "output_type": "stream",
     "text": [
      "Accuracy on test set: 97.60%\n",
      "AUC on test set: 1.00\n",
      "F1 score on test set: 0.98\n"
     ]
    },
    {
     "name": "stderr",
     "output_type": "stream",
     "text": [
      "100%|███████████████████████████████████████████████████████████████████████████████████████████████████████████████████████████████████████████████████████████████████| 34/34 [00:00<00:00, 36.18it/s]\n",
      "100%|████████████████████████████████████████████████████████████████████████████████████████████████████████████████████████████████████████████████████████████████████| 8/8 [00:00<00:00, 128.89it/s]\n"
     ]
    },
    {
     "name": "stdout",
     "output_type": "stream",
     "text": [
      "Epoch 1/1000, Loss: 21.28394815325737, Accuracy on validation set: 63.97%, Validation Loss: 0.7187\n"
     ]
    },
    {
     "name": "stderr",
     "output_type": "stream",
     "text": [
      "100%|███████████████████████████████████████████████████████████████████████████████████████████████████████████████████████████████████████████████████████████████████| 34/34 [00:00<00:00, 37.08it/s]\n",
      "100%|████████████████████████████████████████████████████████████████████████████████████████████████████████████████████████████████████████████████████████████████████| 8/8 [00:00<00:00, 134.27it/s]\n"
     ]
    },
    {
     "name": "stdout",
     "output_type": "stream",
     "text": [
      "Epoch 2/1000, Loss: 16.746626675128937, Accuracy on validation set: 65.72%, Validation Loss: 0.9206\n"
     ]
    },
    {
     "name": "stderr",
     "output_type": "stream",
     "text": [
      "100%|███████████████████████████████████████████████████████████████████████████████████████████████████████████████████████████████████████████████████████████████████| 34/34 [00:00<00:00, 37.10it/s]\n",
      "100%|████████████████████████████████████████████████████████████████████████████████████████████████████████████████████████████████████████████████████████████████████| 8/8 [00:00<00:00, 132.75it/s]\n"
     ]
    },
    {
     "name": "stdout",
     "output_type": "stream",
     "text": [
      "Epoch 3/1000, Loss: 13.394055426120758, Accuracy on validation set: 68.78%, Validation Loss: 0.8966\n"
     ]
    },
    {
     "name": "stderr",
     "output_type": "stream",
     "text": [
      "100%|███████████████████████████████████████████████████████████████████████████████████████████████████████████████████████████████████████████████████████████████████| 34/34 [00:00<00:00, 38.24it/s]\n",
      "100%|████████████████████████████████████████████████████████████████████████████████████████████████████████████████████████████████████████████████████████████████████| 8/8 [00:00<00:00, 138.15it/s]\n"
     ]
    },
    {
     "name": "stdout",
     "output_type": "stream",
     "text": [
      "Epoch 4/1000, Loss: 12.257343888282776, Accuracy on validation set: 78.82%, Validation Loss: 0.4248\n"
     ]
    },
    {
     "name": "stderr",
     "output_type": "stream",
     "text": [
      "100%|███████████████████████████████████████████████████████████████████████████████████████████████████████████████████████████████████████████████████████████████████| 34/34 [00:00<00:00, 37.85it/s]\n",
      "100%|████████████████████████████████████████████████████████████████████████████████████████████████████████████████████████████████████████████████████████████████████| 8/8 [00:00<00:00, 134.85it/s]\n"
     ]
    },
    {
     "name": "stdout",
     "output_type": "stream",
     "text": [
      "Epoch 5/1000, Loss: 10.065126433968544, Accuracy on validation set: 75.55%, Validation Loss: 0.5009\n"
     ]
    },
    {
     "name": "stderr",
     "output_type": "stream",
     "text": [
      "100%|███████████████████████████████████████████████████████████████████████████████████████████████████████████████████████████████████████████████████████████████████| 34/34 [00:00<00:00, 37.91it/s]\n",
      "100%|████████████████████████████████████████████████████████████████████████████████████████████████████████████████████████████████████████████████████████████████████| 8/8 [00:00<00:00, 136.73it/s]\n"
     ]
    },
    {
     "name": "stdout",
     "output_type": "stream",
     "text": [
      "Epoch 6/1000, Loss: 8.894460491836071, Accuracy on validation set: 79.48%, Validation Loss: 0.4556\n"
     ]
    },
    {
     "name": "stderr",
     "output_type": "stream",
     "text": [
      "100%|███████████████████████████████████████████████████████████████████████████████████████████████████████████████████████████████████████████████████████████████████| 34/34 [00:00<00:00, 38.49it/s]\n",
      "100%|████████████████████████████████████████████████████████████████████████████████████████████████████████████████████████████████████████████████████████████████████| 8/8 [00:00<00:00, 136.40it/s]\n"
     ]
    },
    {
     "name": "stdout",
     "output_type": "stream",
     "text": [
      "Epoch 7/1000, Loss: 5.722589634358883, Accuracy on validation set: 84.28%, Validation Loss: 0.3783\n"
     ]
    },
    {
     "name": "stderr",
     "output_type": "stream",
     "text": [
      "100%|███████████████████████████████████████████████████████████████████████████████████████████████████████████████████████████████████████████████████████████████████| 34/34 [00:00<00:00, 38.65it/s]\n",
      "100%|████████████████████████████████████████████████████████████████████████████████████████████████████████████████████████████████████████████████████████████████████| 8/8 [00:00<00:00, 137.72it/s]\n"
     ]
    },
    {
     "name": "stdout",
     "output_type": "stream",
     "text": [
      "Epoch 8/1000, Loss: 5.841712858527899, Accuracy on validation set: 93.67%, Validation Loss: 0.1587\n"
     ]
    },
    {
     "name": "stderr",
     "output_type": "stream",
     "text": [
      "100%|███████████████████████████████████████████████████████████████████████████████████████████████████████████████████████████████████████████████████████████████████| 34/34 [00:00<00:00, 38.03it/s]\n",
      "100%|████████████████████████████████████████████████████████████████████████████████████████████████████████████████████████████████████████████████████████████████████| 8/8 [00:00<00:00, 138.57it/s]\n"
     ]
    },
    {
     "name": "stdout",
     "output_type": "stream",
     "text": [
      "Epoch 9/1000, Loss: 5.659770138561726, Accuracy on validation set: 55.24%, Validation Loss: 1.3909\n"
     ]
    },
    {
     "name": "stderr",
     "output_type": "stream",
     "text": [
      "100%|███████████████████████████████████████████████████████████████████████████████████████████████████████████████████████████████████████████████████████████████████| 34/34 [00:00<00:00, 38.61it/s]\n",
      "100%|████████████████████████████████████████████████████████████████████████████████████████████████████████████████████████████████████████████████████████████████████| 8/8 [00:00<00:00, 137.45it/s]\n"
     ]
    },
    {
     "name": "stdout",
     "output_type": "stream",
     "text": [
      "Epoch 10/1000, Loss: 5.847801707684994, Accuracy on validation set: 87.99%, Validation Loss: 0.2722\n"
     ]
    },
    {
     "name": "stderr",
     "output_type": "stream",
     "text": [
      "100%|███████████████████████████████████████████████████████████████████████████████████████████████████████████████████████████████████████████████████████████████████| 34/34 [00:00<00:00, 38.57it/s]\n",
      "100%|████████████████████████████████████████████████████████████████████████████████████████████████████████████████████████████████████████████████████████████████████| 8/8 [00:00<00:00, 138.17it/s]\n"
     ]
    },
    {
     "name": "stdout",
     "output_type": "stream",
     "text": [
      "Epoch 11/1000, Loss: 3.5772306304425, Accuracy on validation set: 84.06%, Validation Loss: 0.5803\n"
     ]
    },
    {
     "name": "stderr",
     "output_type": "stream",
     "text": [
      "100%|███████████████████████████████████████████████████████████████████████████████████████████████████████████████████████████████████████████████████████████████████| 34/34 [00:00<00:00, 38.20it/s]\n",
      "100%|████████████████████████████████████████████████████████████████████████████████████████████████████████████████████████████████████████████████████████████████████| 8/8 [00:00<00:00, 134.81it/s]\n"
     ]
    },
    {
     "name": "stdout",
     "output_type": "stream",
     "text": [
      "Epoch 12/1000, Loss: 2.6777379605919123, Accuracy on validation set: 95.41%, Validation Loss: 0.1394\n"
     ]
    },
    {
     "name": "stderr",
     "output_type": "stream",
     "text": [
      "100%|███████████████████████████████████████████████████████████████████████████████████████████████████████████████████████████████████████████████████████████████████| 34/34 [00:00<00:00, 38.43it/s]\n",
      "100%|████████████████████████████████████████████████████████████████████████████████████████████████████████████████████████████████████████████████████████████████████| 8/8 [00:00<00:00, 137.79it/s]\n"
     ]
    },
    {
     "name": "stdout",
     "output_type": "stream",
     "text": [
      "Epoch 13/1000, Loss: 3.2718324614688754, Accuracy on validation set: 96.51%, Validation Loss: 0.0972\n"
     ]
    },
    {
     "name": "stderr",
     "output_type": "stream",
     "text": [
      "100%|███████████████████████████████████████████████████████████████████████████████████████████████████████████████████████████████████████████████████████████████████| 34/34 [00:00<00:00, 36.40it/s]\n",
      "100%|████████████████████████████████████████████████████████████████████████████████████████████████████████████████████████████████████████████████████████████████████| 8/8 [00:00<00:00, 131.15it/s]\n"
     ]
    },
    {
     "name": "stdout",
     "output_type": "stream",
     "text": [
      "Epoch 14/1000, Loss: 2.568185898475349, Accuracy on validation set: 89.30%, Validation Loss: 0.2858\n"
     ]
    },
    {
     "name": "stderr",
     "output_type": "stream",
     "text": [
      "100%|███████████████████████████████████████████████████████████████████████████████████████████████████████████████████████████████████████████████████████████████████| 34/34 [00:00<00:00, 36.90it/s]\n",
      "100%|████████████████████████████████████████████████████████████████████████████████████████████████████████████████████████████████████████████████████████████████████| 8/8 [00:00<00:00, 132.71it/s]\n"
     ]
    },
    {
     "name": "stdout",
     "output_type": "stream",
     "text": [
      "Epoch 15/1000, Loss: 3.52386633772403, Accuracy on validation set: 93.89%, Validation Loss: 0.1321\n"
     ]
    },
    {
     "name": "stderr",
     "output_type": "stream",
     "text": [
      "100%|███████████████████████████████████████████████████████████████████████████████████████████████████████████████████████████████████████████████████████████████████| 34/34 [00:00<00:00, 36.59it/s]\n",
      "100%|████████████████████████████████████████████████████████████████████████████████████████████████████████████████████████████████████████████████████████████████████| 8/8 [00:00<00:00, 131.64it/s]\n"
     ]
    },
    {
     "name": "stdout",
     "output_type": "stream",
     "text": [
      "Epoch 16/1000, Loss: 3.8479630164802074, Accuracy on validation set: 94.32%, Validation Loss: 0.1572\n"
     ]
    },
    {
     "name": "stderr",
     "output_type": "stream",
     "text": [
      "100%|███████████████████████████████████████████████████████████████████████████████████████████████████████████████████████████████████████████████████████████████████| 34/34 [00:00<00:00, 35.00it/s]\n",
      "100%|████████████████████████████████████████████████████████████████████████████████████████████████████████████████████████████████████████████████████████████████████| 8/8 [00:00<00:00, 127.88it/s]\n"
     ]
    },
    {
     "name": "stdout",
     "output_type": "stream",
     "text": [
      "Epoch 17/1000, Loss: 3.052443286869675, Accuracy on validation set: 96.07%, Validation Loss: 0.1090\n"
     ]
    },
    {
     "name": "stderr",
     "output_type": "stream",
     "text": [
      "100%|███████████████████████████████████████████████████████████████████████████████████████████████████████████████████████████████████████████████████████████████████| 34/34 [00:00<00:00, 35.12it/s]\n",
      "100%|████████████████████████████████████████████████████████████████████████████████████████████████████████████████████████████████████████████████████████████████████| 8/8 [00:00<00:00, 127.88it/s]\n"
     ]
    },
    {
     "name": "stdout",
     "output_type": "stream",
     "text": [
      "Epoch 18/1000, Loss: 3.2439347812905908, Accuracy on validation set: 87.12%, Validation Loss: 0.2651\n",
      "Early stopping after 18 epochs.\n"
     ]
    },
    {
     "name": "stderr",
     "output_type": "stream",
     "text": [
      "100%|████████████████████████████████████████████████████████████████████████████████████████████████████████████████████████████████████████████████████████████████████| 8/8 [00:00<00:00, 127.07it/s]\n"
     ]
    },
    {
     "name": "stdout",
     "output_type": "stream",
     "text": [
      "Accuracy on test set: 88.65%\n",
      "AUC on test set: 0.96\n",
      "F1 score on test set: 0.90\n"
     ]
    },
    {
     "name": "stderr",
     "output_type": "stream",
     "text": [
      "/home/dsi/vignano/miniconda3/lib/python3.9/site-packages/pytorch_tabnet/abstract_model.py:82: UserWarning: Device used : cuda\n",
      "  warnings.warn(f\"Device used : {self.device}\")\n"
     ]
    },
    {
     "name": "stdout",
     "output_type": "stream",
     "text": [
      "epoch 0  | loss: 0.99767 | val_0_accuracy: 0.55022 |  0:00:00s\n",
      "epoch 1  | loss: 0.84245 | val_0_accuracy: 0.54585 |  0:00:00s\n",
      "epoch 2  | loss: 0.76353 | val_0_accuracy: 0.54585 |  0:00:00s\n",
      "epoch 3  | loss: 0.71743 | val_0_accuracy: 0.54803 |  0:00:00s\n",
      "epoch 4  | loss: 0.70248 | val_0_accuracy: 0.55677 |  0:00:00s\n",
      "epoch 5  | loss: 0.66747 | val_0_accuracy: 0.54367 |  0:00:00s\n",
      "epoch 6  | loss: 0.67257 | val_0_accuracy: 0.54585 |  0:00:00s\n",
      "epoch 7  | loss: 0.65412 | val_0_accuracy: 0.54367 |  0:00:00s\n",
      "epoch 8  | loss: 0.63138 | val_0_accuracy: 0.54367 |  0:00:01s\n",
      "epoch 9  | loss: 0.62371 | val_0_accuracy: 0.55459 |  0:00:01s\n",
      "\n",
      "Early stopping occurred at epoch 9 with best_epoch = 4 and best_val_0_accuracy = 0.55677\n",
      "Accuracy on test set: 55.02%\n",
      "AUC on test set: 0.56\n",
      "F1 score on test set: 0.71\n",
      "[0]\tvalidation_0-error:0.32751\n",
      "[1]\tvalidation_0-error:0.16594\n",
      "[2]\tvalidation_0-error:0.12664\n",
      "[3]\tvalidation_0-error:0.07642\n",
      "[4]\tvalidation_0-error:0.08734\n",
      "[5]\tvalidation_0-error:0.08079\n",
      "[6]\tvalidation_0-error:0.06114\n",
      "[7]\tvalidation_0-error:0.05677\n",
      "[8]\tvalidation_0-error:0.05677\n",
      "[9]\tvalidation_0-error:0.05677\n",
      "[10]\tvalidation_0-error:0.05240\n",
      "[11]\tvalidation_0-error:0.05022\n",
      "[12]\tvalidation_0-error:0.05022\n",
      "[13]\tvalidation_0-error:0.05022\n",
      "[14]\tvalidation_0-error:0.04803\n",
      "[15]\tvalidation_0-error:0.03930\n",
      "[16]\tvalidation_0-error:0.04367\n",
      "[17]\tvalidation_0-error:0.03930\n",
      "[18]\tvalidation_0-error:0.04148\n",
      "[19]\tvalidation_0-error:0.04148\n"
     ]
    },
    {
     "name": "stderr",
     "output_type": "stream",
     "text": [
      "/home/dsi/vignano/miniconda3/lib/python3.9/site-packages/pytorch_tabnet/callbacks.py:172: UserWarning: Best weights from best epoch are automatically used!\n",
      "  warnings.warn(wrn_msg)\n",
      "/home/dsi/vignano/miniconda3/lib/python3.9/site-packages/xgboost/sklearn.py:889: UserWarning: `eval_metric` in `fit` method is deprecated for better compatibility with scikit-learn, use `eval_metric` in constructor or`set_params` instead.\n",
      "  warnings.warn(\n",
      "/home/dsi/vignano/miniconda3/lib/python3.9/site-packages/xgboost/sklearn.py:889: UserWarning: `early_stopping_rounds` in `fit` method is deprecated for better compatibility with scikit-learn, use `early_stopping_rounds` in constructor or`set_params` instead.\n",
      "  warnings.warn(\n"
     ]
    },
    {
     "name": "stdout",
     "output_type": "stream",
     "text": [
      "Accuracy on test set: 96.07%\n",
      "AUC on test set: 0.99\n",
      "F1 score on test set: 0.96\n"
     ]
    },
    {
     "name": "stderr",
     "output_type": "stream",
     "text": [
      "100%|█████████████████████████████████████████████████████████████████████████████████████████████████████████████████████████████████████████████████████████████████████| 7/7 [00:00<00:00, 35.36it/s]\n",
      "100%|████████████████████████████████████████████████████████████████████████████████████████████████████████████████████████████████████████████████████████████████████| 2/2 [00:00<00:00, 135.33it/s]\n"
     ]
    },
    {
     "name": "stdout",
     "output_type": "stream",
     "text": [
      "Epoch 1/1000, Loss: 4.930683791637421, Accuracy on validation set: 59.34%, Validation Loss: 0.8705\n"
     ]
    },
    {
     "name": "stderr",
     "output_type": "stream",
     "text": [
      "100%|█████████████████████████████████████████████████████████████████████████████████████████████████████████████████████████████████████████████████████████████████████| 7/7 [00:00<00:00, 36.38it/s]\n",
      "100%|████████████████████████████████████████████████████████████████████████████████████████████████████████████████████████████████████████████████████████████████████| 2/2 [00:00<00:00, 133.46it/s]\n"
     ]
    },
    {
     "name": "stdout",
     "output_type": "stream",
     "text": [
      "Epoch 2/1000, Loss: 4.552976548671722, Accuracy on validation set: 60.44%, Validation Loss: 0.7361\n"
     ]
    },
    {
     "name": "stderr",
     "output_type": "stream",
     "text": [
      "100%|█████████████████████████████████████████████████████████████████████████████████████████████████████████████████████████████████████████████████████████████████████| 7/7 [00:00<00:00, 35.28it/s]\n",
      "100%|████████████████████████████████████████████████████████████████████████████████████████████████████████████████████████████████████████████████████████████████████| 2/2 [00:00<00:00, 132.74it/s]\n"
     ]
    },
    {
     "name": "stdout",
     "output_type": "stream",
     "text": [
      "Epoch 3/1000, Loss: 3.8183687925338745, Accuracy on validation set: 62.64%, Validation Loss: 0.7099\n"
     ]
    },
    {
     "name": "stderr",
     "output_type": "stream",
     "text": [
      "100%|█████████████████████████████████████████████████████████████████████████████████████████████████████████████████████████████████████████████████████████████████████| 7/7 [00:00<00:00, 35.90it/s]\n",
      "100%|████████████████████████████████████████████████████████████████████████████████████████████████████████████████████████████████████████████████████████████████████| 2/2 [00:00<00:00, 136.58it/s]\n"
     ]
    },
    {
     "name": "stdout",
     "output_type": "stream",
     "text": [
      "Epoch 4/1000, Loss: 3.35740128159523, Accuracy on validation set: 69.23%, Validation Loss: 0.7874\n"
     ]
    },
    {
     "name": "stderr",
     "output_type": "stream",
     "text": [
      "100%|█████████████████████████████████████████████████████████████████████████████████████████████████████████████████████████████████████████████████████████████████████| 7/7 [00:00<00:00, 35.82it/s]\n",
      "100%|████████████████████████████████████████████████████████████████████████████████████████████████████████████████████████████████████████████████████████████████████| 2/2 [00:00<00:00, 133.47it/s]\n"
     ]
    },
    {
     "name": "stdout",
     "output_type": "stream",
     "text": [
      "Epoch 5/1000, Loss: 2.9132259786129, Accuracy on validation set: 60.44%, Validation Loss: 0.8658\n"
     ]
    },
    {
     "name": "stderr",
     "output_type": "stream",
     "text": [
      "100%|█████████████████████████████████████████████████████████████████████████████████████████████████████████████████████████████████████████████████████████████████████| 7/7 [00:00<00:00, 36.16it/s]\n",
      "100%|████████████████████████████████████████████████████████████████████████████████████████████████████████████████████████████████████████████████████████████████████| 2/2 [00:00<00:00, 138.13it/s]\n"
     ]
    },
    {
     "name": "stdout",
     "output_type": "stream",
     "text": [
      "Epoch 6/1000, Loss: 3.1822271049022675, Accuracy on validation set: 72.53%, Validation Loss: 0.6150\n"
     ]
    },
    {
     "name": "stderr",
     "output_type": "stream",
     "text": [
      "100%|█████████████████████████████████████████████████████████████████████████████████████████████████████████████████████████████████████████████████████████████████████| 7/7 [00:00<00:00, 36.32it/s]\n",
      "100%|████████████████████████████████████████████████████████████████████████████████████████████████████████████████████████████████████████████████████████████████████| 2/2 [00:00<00:00, 133.88it/s]\n"
     ]
    },
    {
     "name": "stdout",
     "output_type": "stream",
     "text": [
      "Epoch 7/1000, Loss: 2.5248338282108307, Accuracy on validation set: 67.03%, Validation Loss: 1.0834\n"
     ]
    },
    {
     "name": "stderr",
     "output_type": "stream",
     "text": [
      "100%|█████████████████████████████████████████████████████████████████████████████████████████████████████████████████████████████████████████████████████████████████████| 7/7 [00:00<00:00, 37.31it/s]\n",
      "100%|████████████████████████████████████████████████████████████████████████████████████████████████████████████████████████████████████████████████████████████████████| 2/2 [00:00<00:00, 140.08it/s]\n"
     ]
    },
    {
     "name": "stdout",
     "output_type": "stream",
     "text": [
      "Epoch 8/1000, Loss: 3.00290983915329, Accuracy on validation set: 59.34%, Validation Loss: 0.6714\n"
     ]
    },
    {
     "name": "stderr",
     "output_type": "stream",
     "text": [
      "100%|█████████████████████████████████████████████████████████████████████████████████████████████████████████████████████████████████████████████████████████████████████| 7/7 [00:00<00:00, 37.27it/s]\n",
      "100%|████████████████████████████████████████████████████████████████████████████████████████████████████████████████████████████████████████████████████████████████████| 2/2 [00:00<00:00, 137.71it/s]\n"
     ]
    },
    {
     "name": "stdout",
     "output_type": "stream",
     "text": [
      "Epoch 9/1000, Loss: 2.5694057941436768, Accuracy on validation set: 72.53%, Validation Loss: 0.6801\n"
     ]
    },
    {
     "name": "stderr",
     "output_type": "stream",
     "text": [
      "100%|█████████████████████████████████████████████████████████████████████████████████████████████████████████████████████████████████████████████████████████████████████| 7/7 [00:00<00:00, 37.54it/s]\n",
      "100%|████████████████████████████████████████████████████████████████████████████████████████████████████████████████████████████████████████████████████████████████████| 2/2 [00:00<00:00, 137.70it/s]\n"
     ]
    },
    {
     "name": "stdout",
     "output_type": "stream",
     "text": [
      "Epoch 10/1000, Loss: 2.019105777144432, Accuracy on validation set: 73.63%, Validation Loss: 0.7451\n"
     ]
    },
    {
     "name": "stderr",
     "output_type": "stream",
     "text": [
      "100%|█████████████████████████████████████████████████████████████████████████████████████████████████████████████████████████████████████████████████████████████████████| 7/7 [00:00<00:00, 37.48it/s]\n",
      "100%|████████████████████████████████████████████████████████████████████████████████████████████████████████████████████████████████████████████████████████████████████| 2/2 [00:00<00:00, 137.86it/s]\n"
     ]
    },
    {
     "name": "stdout",
     "output_type": "stream",
     "text": [
      "Epoch 11/1000, Loss: 1.854003369808197, Accuracy on validation set: 78.02%, Validation Loss: 0.6533\n",
      "Early stopping after 11 epochs.\n"
     ]
    },
    {
     "name": "stderr",
     "output_type": "stream",
     "text": [
      "100%|████████████████████████████████████████████████████████████████████████████████████████████████████████████████████████████████████████████████████████████████████| 2/2 [00:00<00:00, 139.13it/s]\n"
     ]
    },
    {
     "name": "stdout",
     "output_type": "stream",
     "text": [
      "Accuracy on test set: 73.91%\n",
      "AUC on test set: 0.80\n",
      "F1 score on test set: 0.77\n",
      "epoch 0  | loss: 0.0     | val_0_accuracy: 0.38462 |  0:00:00s\n",
      "epoch 1  | loss: 0.0     | val_0_accuracy: 0.38462 |  0:00:00s\n",
      "epoch 2  | loss: 0.0     | val_0_accuracy: 0.38462 |  0:00:00s\n",
      "epoch 3  | loss: 0.0     | val_0_accuracy: 0.38462 |  0:00:00s\n",
      "epoch 4  | loss: 0.0     | val_0_accuracy: 0.38462 |  0:00:00s\n",
      "epoch 5  | loss: 0.0     | val_0_accuracy: 0.38462 |  0:00:00s\n",
      "\n",
      "Early stopping occurred at epoch 5 with best_epoch = 0 and best_val_0_accuracy = 0.38462\n",
      "Accuracy on test set: 41.30%\n",
      "AUC on test set: 0.38\n",
      "F1 score on test set: 0.48\n",
      "[0]\tvalidation_0-error:0.38462\n",
      "[1]\tvalidation_0-error:0.31868\n",
      "[2]\tvalidation_0-error:0.27473\n",
      "[3]\tvalidation_0-error:0.27473\n",
      "[4]\tvalidation_0-error:0.23077\n",
      "[5]\tvalidation_0-error:0.24176\n",
      "[6]\tvalidation_0-error:0.20879\n",
      "[7]\tvalidation_0-error:0.21978\n",
      "[8]\tvalidation_0-error:0.19780\n",
      "[9]\tvalidation_0-error:0.17582\n",
      "[10]\tvalidation_0-error:0.20879\n",
      "[11]\tvalidation_0-error:0.19780\n",
      "[12]\tvalidation_0-error:0.18681\n",
      "[13]\tvalidation_0-error:0.18681\n",
      "[14]\tvalidation_0-error:0.16484\n",
      "[15]\tvalidation_0-error:0.15385\n",
      "[16]\tvalidation_0-error:0.14286\n",
      "[17]\tvalidation_0-error:0.14286\n",
      "[18]\tvalidation_0-error:0.15385\n",
      "[19]\tvalidation_0-error:0.14286\n",
      "[20]\tvalidation_0-error:0.14286\n",
      "[21]\tvalidation_0-error:0.14286\n"
     ]
    },
    {
     "name": "stderr",
     "output_type": "stream",
     "text": [
      "/home/dsi/vignano/miniconda3/lib/python3.9/site-packages/pytorch_tabnet/abstract_model.py:82: UserWarning: Device used : cuda\n",
      "  warnings.warn(f\"Device used : {self.device}\")\n",
      "/home/dsi/vignano/miniconda3/lib/python3.9/site-packages/pytorch_tabnet/callbacks.py:172: UserWarning: Best weights from best epoch are automatically used!\n",
      "  warnings.warn(wrn_msg)\n",
      "/home/dsi/vignano/miniconda3/lib/python3.9/site-packages/xgboost/sklearn.py:889: UserWarning: `eval_metric` in `fit` method is deprecated for better compatibility with scikit-learn, use `eval_metric` in constructor or`set_params` instead.\n",
      "  warnings.warn(\n",
      "/home/dsi/vignano/miniconda3/lib/python3.9/site-packages/xgboost/sklearn.py:889: UserWarning: `early_stopping_rounds` in `fit` method is deprecated for better compatibility with scikit-learn, use `early_stopping_rounds` in constructor or`set_params` instead.\n",
      "  warnings.warn(\n"
     ]
    },
    {
     "name": "stdout",
     "output_type": "stream",
     "text": [
      "Accuracy on test set: 85.87%\n",
      "AUC on test set: 0.88\n",
      "F1 score on test set: 0.87\n"
     ]
    },
    {
     "data": {
      "image/png": "[encoded data removed]",
      "text/plain": [
       "<Figure size 1500x500 with 3 Axes>"
      ]
     },
     "metadata": {},
     "output_type": "display_data"
    }
   ],
   "source": [
    "import matplotlib.pyplot as plt\n",
    "\n",
    "# List of thresholds\n",
    "thresholds = [1, 0.5, 0.2, 0.1, 0.05, 0.01]\n",
    "\n",
    "results = []\n",
    "for t in thresholds:\n",
    "  results.append(run_all(1-t))\n",
    "\n",
    "# List of metrics\n",
    "metrics = ['Accuracy', 'AUC', 'F1 Score']\n",
    "\n",
    "# Prepare the plot\n",
    "fig, axes = plt.subplots(1, 3, figsize=(15, 5))\n",
    "fig.suptitle('Model Performance Comparison')\n",
    "\n",
    "# Plot the results\n",
    "for i, metric in enumerate(metrics):\n",
    "    ax = axes[i]\n",
    "    ax.plot(thresholds, [r['hermann'][i] for r in results], label='hermann', marker='o',c=(0.2, 0.4, 0.6))\n",
    "    ax.plot(thresholds, [r['tabnet'][i] for r in results], label='tabnet', marker='o',c=(0.6, 0.4, 0.8))\n",
    "    ax.plot(thresholds, [r['xgboost'][i] for r in results], label='xgboost', marker='o',c=(0.8, 0.4, 0.6))\n",
    "    ax.set_title(metric)\n",
    "    ax.set_xlabel('% of data used')\n",
    "    ax.set_ylabel(metric)\n",
    "    ax.legend()\n",
    "\n",
    "# Show the plot\n",
    "plt.tight_layout()\n",
    "plt.subplots_adjust(top=0.85)\n",
    "plt.savefig(\"result.png\")\n",
    "plt.show()"
   ]
  },
  {
   "cell_type": "code",
   "execution_count": null,
   "metadata": {},
   "outputs": [],
   "source": []
  },
  {
   "cell_type": "code",
   "execution_count": null,
   "metadata": {},
   "outputs": [],
   "source": []
  }
 ],
 "metadata": {
  "accelerator": "GPU",
  "colab": {
   "gpuType": "T4",
   "provenance": []
  },
  "kernelspec": {
   "display_name": "Python 3",
   "language": "python",
   "name": "python3"
  },
  "language_info": {
   "codemirror_mode": {
    "name": "ipython",
    "version": 3
   },
   "file_extension": ".py",
   "mimetype": "text/x-python",
   "name": "python",
   "nbconvert_exporter": "python",
   "pygments_lexer": "ipython3",
   "version": "3.9.1"
  }
 },
 "nbformat": 4,
 "nbformat_minor": 4
}
